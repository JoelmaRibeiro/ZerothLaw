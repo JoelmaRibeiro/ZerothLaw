{
 "cells": [
  {
   "cell_type": "markdown",
   "metadata": {},
   "source": [
    "# Temperatura, Calor e sua Propagação"
   ]
  },
  {
   "cell_type": "markdown",
   "metadata": {},
   "source": [
    "# Sensação Térmica\n",
    "\n",
    "\n",
    "<p> Em nosso cotidiano é comum usarmos os termos frio, quente e morno para exprimir a sensação que temos ao tocar objetos. \n",
    "No entanto essa avaliação térmica que fazemos através do nosso sentido tato é impreciso, pois depende da pessoa que sente e das condições nas quais se encontrava anteriormente. \n",
    "Nós humanos somos endotérmicos, temos uma temperatura constante entre 36 e 37 graus ( abaixo desse valor é hipotermia e acima hipertermia.), Portanto, há uma estrita margem em nossa sensação térmica. \n",
    "Exemplo: Se uma pessoa está doente ou acaba de fazer exercícios físicos sua sensibilidade corporal difere de seu estado normal. \n",
    "\n",
    "<p> No entanto os seres ectotérmicos ( com sangue frio) não tem uma temperatura padrão e precisam de uma fonte de calor externa, para regular seu próprio organismo. Os répteis são um claro exemplo de animais ectotérmicos. \n",
    " \n",
    "  Assim sensação térmica é apenas uma expressão qualitativa do estado térmico de um corpo ou sistema. Para uma avaliação precisa, é necessária uma medida quantitativa, ou seja, precisamos medir a temperatura do sistema ou corpo a partir de um instrumento chamado termômetro.<p/>\n",
    "\n",
    "   Sensação térmica é um termo utilizado designar como os sentidos do nosso corpo percebem a temperatura do ambiente.Vejamos:"
   ]
  },
  {
   "cell_type": "code",
   "execution_count": 1,
   "metadata": {},
   "outputs": [
    {
     "data": {
      "text/html": [
       "\n",
       "    <script>\n",
       "    function code_toggle() {\n",
       "        if ($('div.cell.code_cell.rendered.selected div.input').css('display')!='none'){\n",
       "            $('div.cell.code_cell.rendered.selected div.input').hide();\n",
       "        } else {\n",
       "            $('div.cell.code_cell.rendered.selected div.input').show();\n",
       "        }\n",
       "    }\n",
       "    </script>\n",
       "\n",
       "\n",
       "<form action=\"javascript:code_toggle()\"><input type=\"submit\" id=\"toggleButton\" value=\"Toggle Code\"></form>\n"
      ],
      "text/plain": [
       "<IPython.core.display.HTML object>"
      ]
     },
     "metadata": {},
     "output_type": "display_data"
    },
    {
     "data": {
      "text/html": [
       "<iframe width=\"697\" height=\"392\" src=\"https://www.youtube.com/embed/53pv5Et8_DU\" frameborder=\"0\" allow=\"accelerometer; autoplay; encrypted-media; gyroscope; picture-in-picture\" allowfullscreen></iframe>"
      ],
      "text/plain": [
       "<IPython.core.display.HTML object>"
      ]
     },
     "execution_count": 1,
     "metadata": {},
     "output_type": "execute_result"
    }
   ],
   "source": [
    "from IPython.core.display import display, HTML\n",
    "toggle_code_str = '''\n",
    "<form action=\"javascript:code_toggle()\"><input type=\"submit\" id=\"toggleButton\" value=\"Toggle Code\"></form>\n",
    "'''\n",
    "\n",
    "toggle_code_prepare_str = '''\n",
    "    <script>\n",
    "    function code_toggle() {\n",
    "        if ($('div.cell.code_cell.rendered.selected div.input').css('display')!='none'){\n",
    "            $('div.cell.code_cell.rendered.selected div.input').hide();\n",
    "        } else {\n",
    "            $('div.cell.code_cell.rendered.selected div.input').show();\n",
    "        }\n",
    "    }\n",
    "    </script>\n",
    "\n",
    "'''\n",
    "\n",
    "display(HTML(toggle_code_prepare_str + toggle_code_str))\n",
    "\n",
    "def toggle_code():\n",
    "    display(HTML(toggle_code_str))\n",
    "from IPython.display import HTML\n",
    "HTML('<iframe width=\"697\" height=\"392\" src=\"https://www.youtube.com/embed/53pv5Et8_DU\" frameborder=\"0\" allow=\"accelerometer; autoplay; encrypted-media; gyroscope; picture-in-picture\" allowfullscreen></iframe>')"
   ]
  },
  {
   "cell_type": "markdown",
   "metadata": {},
   "source": [
    "# Temperatura\n",
    "\n",
    "\n",
    "\n",
    "   Toda matéria independente do seu estado(sólido, líquido ou gasoso), é composta por átomos ou moléculas em constante movimento, esse movimento é denominado agitação térmica, em virtude desse movimento aleatório, os átomos ou moléculas possuem energia cinética associada a esse movimento que chamamos de energia térmica. \n",
    "   \n",
    "   A energia térmica da matéria pode variar. Exemplo, se uma certa quantidade de água for colocada junto à uma chama, o movimento de suas moléculas se torma mais intenso, isto é, sua energia térmica aumenta. Mas se adicionarmos gelo à água, ocorre a diminuição do movimento molecular, ou seja, sua energia térmica diminui. \n",
    "  \n",
    "   Para melhor entendermos esse movimento usaremos o simulador Phet. Siga os passos descrito abaixo.\n",
    "\n",
    "1º) Clique no botão “estados”;\n",
    "\n",
    "2º) Clique no botão \"Água\";\n",
    "\n",
    "3º) Deslize o botão abaixo do recipiente que contém a substância \"Água\" até a palavra aquecer. Segure-o por alguns segundo e observe: As moléculas e o termômetro. \n",
    "\n",
    "4º) Em seguida: deslize o mesmo até a palavra esfriar. Observe novamente o que ocorrera com o termômetro e as moléculas de  água.\n",
    "  \n"
   ]
  },
  {
   "cell_type": "code",
   "execution_count": 2,
   "metadata": {},
   "outputs": [
    {
     "data": {
      "text/html": [
       "\n",
       "    <script>\n",
       "    function code_toggle() {\n",
       "        if ($('div.cell.code_cell.rendered.selected div.input').css('display')!='none'){\n",
       "            $('div.cell.code_cell.rendered.selected div.input').hide();\n",
       "        } else {\n",
       "            $('div.cell.code_cell.rendered.selected div.input').show();\n",
       "        }\n",
       "    }\n",
       "    </script>\n",
       "\n",
       "\n",
       "<form action=\"javascript:code_toggle()\"><input type=\"submit\" id=\"toggleButton\" value=\"Toggle Code\"></form>\n"
      ],
      "text/plain": [
       "<IPython.core.display.HTML object>"
      ]
     },
     "metadata": {},
     "output_type": "display_data"
    },
    {
     "data": {
      "text/html": [
       "<iframe src=\"https://phet.colorado.edu/sims/html/states-of-matter-basics/latest/states-of-matter-basics_pt_BR.html\" width=\"800\" height=\"700\"></iframe>"
      ],
      "text/plain": [
       "<IPython.core.display.HTML object>"
      ]
     },
     "execution_count": 2,
     "metadata": {},
     "output_type": "execute_result"
    }
   ],
   "source": [
    "from IPython.core.display import display, HTML\n",
    "toggle_code_str = '''\n",
    "<form action=\"javascript:code_toggle()\"><input type=\"submit\" id=\"toggleButton\" value=\"Toggle Code\"></form>\n",
    "'''\n",
    "\n",
    "toggle_code_prepare_str = '''\n",
    "    <script>\n",
    "    function code_toggle() {\n",
    "        if ($('div.cell.code_cell.rendered.selected div.input').css('display')!='none'){\n",
    "            $('div.cell.code_cell.rendered.selected div.input').hide();\n",
    "        } else {\n",
    "            $('div.cell.code_cell.rendered.selected div.input').show();\n",
    "        }\n",
    "    }\n",
    "    </script>\n",
    "\n",
    "'''\n",
    "\n",
    "display(HTML(toggle_code_prepare_str + toggle_code_str))\n",
    "\n",
    "def toggle_code():\n",
    "    display(HTML(toggle_code_str))\n",
    "from IPython.display import HTML\n",
    "HTML('<iframe src=\"https://phet.colorado.edu/sims/html/states-of-matter-basics/latest/states-of-matter-basics_pt_BR.html\" width=\"800\" height=\"700\"></iframe>')"
   ]
  },
  {
   "cell_type": "markdown",
   "metadata": {},
   "source": [
    " Se Observarmos o  termômetro do nosso simulador veremos variar sua medida quando aquecemos ou resfriamos o sistema. Quanto maior a energia térmica, maior será a sua temperatura, quanto menor sua energia interna menor sua temperatura. Logo a energia térmica e a temperatura são grandezas diretamente proporcionais.\n",
    "    \n",
    " Podemos dizer então que:\n",
    "    \n",
    "Temperatura: É a Grandeza física que mede o grau  de agitação das moléculas que constitui o objeto ou um sistema. \n",
    "\n",
    "Assista a vídeo aula a seguir para melhor compreensão da grandeza temperatura.\n"
   ]
  },
  {
   "cell_type": "code",
   "execution_count": 3,
   "metadata": {},
   "outputs": [
    {
     "data": {
      "text/html": [
       "\n",
       "    <script>\n",
       "    function code_toggle() {\n",
       "        if ($('div.cell.code_cell.rendered.selected div.input').css('display')!='none'){\n",
       "            $('div.cell.code_cell.rendered.selected div.input').hide();\n",
       "        } else {\n",
       "            $('div.cell.code_cell.rendered.selected div.input').show();\n",
       "        }\n",
       "    }\n",
       "    </script>\n",
       "\n",
       "\n",
       "<form action=\"javascript:code_toggle()\"><input type=\"submit\" id=\"toggleButton\" value=\"Toggle Code\"></form>\n"
      ],
      "text/plain": [
       "<IPython.core.display.HTML object>"
      ]
     },
     "metadata": {},
     "output_type": "display_data"
    },
    {
     "data": {
      "text/html": [
       "<iframe width=\"697\" height=\"392\" src=\"https://www.youtube.com/embed/LQ7xp2NSm2g\" frameborder=\"0\" allow=\"accelerometer; autoplay; encrypted-media; gyroscope; picture-in-picture\" allowfullscreen></iframe>"
      ],
      "text/plain": [
       "<IPython.core.display.HTML object>"
      ]
     },
     "execution_count": 3,
     "metadata": {},
     "output_type": "execute_result"
    }
   ],
   "source": [
    "from IPython.core.display import display, HTML\n",
    "toggle_code_str = '''\n",
    "<form action=\"javascript:code_toggle()\"><input type=\"submit\" id=\"toggleButton\" value=\"Toggle Code\"></form>\n",
    "'''\n",
    "\n",
    "toggle_code_prepare_str = '''\n",
    "    <script>\n",
    "    function code_toggle() {\n",
    "        if ($('div.cell.code_cell.rendered.selected div.input').css('display')!='none'){\n",
    "            $('div.cell.code_cell.rendered.selected div.input').hide();\n",
    "        } else {\n",
    "            $('div.cell.code_cell.rendered.selected div.input').show();\n",
    "        }\n",
    "    }\n",
    "    </script>\n",
    "\n",
    "'''\n",
    "\n",
    "display(HTML(toggle_code_prepare_str + toggle_code_str))\n",
    "\n",
    "def toggle_code():\n",
    "    display(HTML(toggle_code_str))\n",
    "from IPython.display import HTML\n",
    "HTML('<iframe width=\"697\" height=\"392\" src=\"https://www.youtube.com/embed/LQ7xp2NSm2g\" frameborder=\"0\" allow=\"accelerometer; autoplay; encrypted-media; gyroscope; picture-in-picture\" allowfullscreen></iframe>')"
   ]
  },
  {
   "cell_type": "markdown",
   "metadata": {},
   "source": [
    "# Equilíbrio Térmico\n",
    "\n",
    "\n",
    "   Equilíbrio  térmico é sinônimo de igualdade de temperatura entre dois corpos ou sistemas termodinamico, essa condição de equalização de temperatura não envolve e nem requer uma escala termométrica. Também devemos resaltar que o equilíbrio termico não siguinifica que as condições sejam estáticas do ponto de vista microscópico,ou seja, as moléculas encontram-se constantemente em movimento desordenado ( agitação térmica)."
   ]
  },
  {
   "cell_type": "code",
   "execution_count": 4,
   "metadata": {},
   "outputs": [
    {
     "data": {
      "text/html": [
       "\n",
       "    <script>\n",
       "    function code_toggle() {\n",
       "        if ($('div.cell.code_cell.rendered.selected div.input').css('display')!='none'){\n",
       "            $('div.cell.code_cell.rendered.selected div.input').hide();\n",
       "        } else {\n",
       "            $('div.cell.code_cell.rendered.selected div.input').show();\n",
       "        }\n",
       "    }\n",
       "    </script>\n",
       "\n",
       "\n",
       "<form action=\"javascript:code_toggle()\"><input type=\"submit\" id=\"toggleButton\" value=\"Toggle Code\"></form>\n"
      ],
      "text/plain": [
       "<IPython.core.display.HTML object>"
      ]
     },
     "metadata": {},
     "output_type": "display_data"
    },
    {
     "data": {
      "text/html": [
       "<iframe width=\"697\" height=\"392\" src=\"https://www.youtube.com/embed/gC2TZTCMZpQ\" frameborder=\"0\" allow=\"accelerometer; autoplay; encrypted-media; gyroscope; picture-in-picture\" allowfullscreen></iframe>"
      ],
      "text/plain": [
       "<IPython.core.display.HTML object>"
      ]
     },
     "execution_count": 4,
     "metadata": {},
     "output_type": "execute_result"
    }
   ],
   "source": [
    "from IPython.core.display import display, HTML\n",
    "toggle_code_str = '''\n",
    "<form action=\"javascript:code_toggle()\"><input type=\"submit\" id=\"toggleButton\" value=\"Toggle Code\"></form>\n",
    "'''\n",
    "\n",
    "toggle_code_prepare_str = '''\n",
    "    <script>\n",
    "    function code_toggle() {\n",
    "        if ($('div.cell.code_cell.rendered.selected div.input').css('display')!='none'){\n",
    "            $('div.cell.code_cell.rendered.selected div.input').hide();\n",
    "        } else {\n",
    "            $('div.cell.code_cell.rendered.selected div.input').show();\n",
    "        }\n",
    "    }\n",
    "    </script>\n",
    "\n",
    "'''\n",
    "\n",
    "display(HTML(toggle_code_prepare_str + toggle_code_str))\n",
    "\n",
    "def toggle_code():\n",
    "    display(HTML(toggle_code_str))\n",
    "from IPython.display import HTML\n",
    "HTML('<iframe width=\"697\" height=\"392\" src=\"https://www.youtube.com/embed/gC2TZTCMZpQ\" frameborder=\"0\" allow=\"accelerometer; autoplay; encrypted-media; gyroscope; picture-in-picture\" allowfullscreen></iframe>')"
   ]
  },
  {
   "cell_type": "markdown",
   "metadata": {},
   "source": [
    "# Lei de Newton o resfriamento\n",
    "\n",
    "  Se um objeto que está a uma temperatura diferente da temperatura de sua vizinhança alcançara o equilíbrio térmico com ela. Um objeto relativamente quente esfria enquanto esquenta sua vizinhança. A taxa de resfriamento de um objeto depende de quanto mais quente ele esta em relação a sua vizinhança. A variação de temperatura por minuto de uma xicara de café quente será maior se o  café for colocado no interior de um congelador, em vez de na mesa. Quando o café resfriar dentro do congelador, a diferença entre sua temperatura e a vizinhança é maior do que no outro caso. A taxa de resfriamento de um objeto é aproximadamente proporcional a diferença de temperatura delT entre o objeto e sua vizinhança."
   ]
  },
  {
   "cell_type": "markdown",
   "metadata": {},
   "source": [
    "# Lei zero da termodinâmica:\n",
    "\n",
    "\n",
    "   Suponha que três objetos A, B e C estam isolados termicamente. Se A está em equilíbrio térmico com C e se B também está em equilíbrio termico com C, então, podemos afirmar que A está em equilíbrio térmico com B. \n",
    "   \n",
    "   A lei zero mostrada matemáticamente diz que, se A = C e B = C então A = B ."
   ]
  },
  {
   "cell_type": "markdown",
   "metadata": {},
   "source": [
    "<a href=\"https://ibb.co/cTrSGRf\"><img src=\"https://i.ibb.co/ZTMpnv4/Lei-zero.png\" alt=\"Lei-zero\" border=\"0\" /></a>"
   ]
  },
  {
   "cell_type": "markdown",
   "metadata": {},
   "source": [
    "   Se todos três corpos estão em equilíbrio térmico, então podemos dizer que eles estão todos a mesma temperatura e é aí que está a importância da lei zero, ela nos permite estabelecer a temperatura como uma propriedade mensurável  e universal da máteria, se aela é mensuravel, então  podemos criar uma escala. \n",
    "   \n",
    "   Em termos práticos, para saber se dois sistemas têm a mesma temperatura não é necessário colocá-los em contato térmico entre se, basta verificar se ambos estão em equilíbrio com um terceiro corpo que chamamos termômetro.\n",
    "   "
   ]
  },
  {
   "cell_type": "markdown",
   "metadata": {},
   "source": [
    "# Calor\n",
    "\n",
    "Se colocarmos dos corpos A e B que Possuem diferentes temperaturas, T_A e T_B onde T_A > T_B, próximos um ao outro, verifica-se que a energia térmica é transferida de A para B, essa passagem da energia térmica chamamos de calor. Ela cessa ao ser atingido, o equilíbrio térmico, ou seja, as temperaturas se igualam. Então podemos dizer que:\n",
    "\n",
    "  Calor é a energia transmitida a um corpo para que ele fique mais quente ou a energia que esse corpo perde para resfriar-se.\n",
    "  \n",
    "  veja o vídeo abaixo:"
   ]
  },
  {
   "cell_type": "code",
   "execution_count": 5,
   "metadata": {},
   "outputs": [
    {
     "data": {
      "text/html": [
       "\n",
       "    <script>\n",
       "    function code_toggle() {\n",
       "        if ($('div.cell.code_cell.rendered.selected div.input').css('display')!='none'){\n",
       "            $('div.cell.code_cell.rendered.selected div.input').hide();\n",
       "        } else {\n",
       "            $('div.cell.code_cell.rendered.selected div.input').show();\n",
       "        }\n",
       "    }\n",
       "    </script>\n",
       "\n",
       "\n",
       "<form action=\"javascript:code_toggle()\"><input type=\"submit\" id=\"toggleButton\" value=\"Toggle Code\"></form>\n"
      ],
      "text/plain": [
       "<IPython.core.display.HTML object>"
      ]
     },
     "metadata": {},
     "output_type": "display_data"
    },
    {
     "data": {
      "text/html": [
       "<iframe width=\"697\" height=\"392\" src=\"https://www.youtube.com/embed/PCJ5YK9GYQk\" frameborder=\"0\" allow=\"accelerometer; autoplay; encrypted-media; gyroscope; picture-in-picture\" allowfullscreen></iframe>"
      ],
      "text/plain": [
       "<IPython.core.display.HTML object>"
      ]
     },
     "execution_count": 5,
     "metadata": {},
     "output_type": "execute_result"
    }
   ],
   "source": [
    "from IPython.core.display import display, HTML\n",
    "toggle_code_str = '''\n",
    "<form action=\"javascript:code_toggle()\"><input type=\"submit\" id=\"toggleButton\" value=\"Toggle Code\"></form>\n",
    "'''\n",
    "\n",
    "toggle_code_prepare_str = '''\n",
    "    <script>\n",
    "    function code_toggle() {\n",
    "        if ($('div.cell.code_cell.rendered.selected div.input').css('display')!='none'){\n",
    "            $('div.cell.code_cell.rendered.selected div.input').hide();\n",
    "        } else {\n",
    "            $('div.cell.code_cell.rendered.selected div.input').show();\n",
    "        }\n",
    "    }\n",
    "    </script>\n",
    "\n",
    "'''\n",
    "\n",
    "display(HTML(toggle_code_prepare_str + toggle_code_str))\n",
    "\n",
    "def toggle_code():\n",
    "    display(HTML(toggle_code_str))\n",
    "from IPython.display import HTML\n",
    "HTML('<iframe width=\"697\" height=\"392\" src=\"https://www.youtube.com/embed/PCJ5YK9GYQk\" frameborder=\"0\" allow=\"accelerometer; autoplay; encrypted-media; gyroscope; picture-in-picture\" allowfullscreen></iframe>')"
   ]
  },
  {
   "cell_type": "markdown",
   "metadata": {},
   "source": [
    " A energia é medida em Joules (J) no Sistema Internacional SI.Como o calor também é uma forma de energia, possui a mesma unidade. \n",
    "  Por motivos Históricos e práticos, também usamos outra unidade, a caloria (cal), unidade estabelecida antes de se entender \n",
    "o calor como forma de energia. \n",
    "\n",
    "       A relação entre a caloria (cal) e o joule (J) é: 1 cal = 4,1868J\n",
    "  \n",
    "\n"
   ]
  },
  {
   "cell_type": "markdown",
   "metadata": {},
   "source": [
    "# Experimento de Joule\n",
    "\n",
    "  Ao longo do tempo, os cientistas procuraram entender como e por que os corpos colocados em contato tendem a atingir a mesma\n",
    "temperatura. As observações do engenheiro inglês Thompson, contribuíram significativamente para decifrar a essência do calor.\n",
    "\n",
    "  No final do século XVIII, Thompson vistoriava a fabricação de canhões na Alemanha quando observou que as temperaturas das \n",
    "peças de metal se elevavam quando perfuradas por brocas. Essa constatação levou-o a associar a variação de temperatura à \n",
    "energia mecânica dissipada por atrito na perfuração.\n",
    " \n",
    "  Ao tomar conhecimento das observações de Thompson, alguns cientistas realizaram experimentos para comprovar a relação \n",
    "entre calor e energia. Um dos físicos que se destacaram nessa investigação foi James Prescott Joule, que a partir de \n",
    "seus experimentos estabeleceu o equivalente entre energia mecânica e calor.\n",
    "   \n",
    "  Ele inventou um recipiente com água, isolado termicamente, no qual colocou um sistema de pás que podiam agitar a água.\n",
    "Como mecanismo impulsor, utilizou um bloco que deixava cair lentamente de uma certa altura. Como havia atrito das pás \n",
    "com água, o bloco caia com velocidade praticamente constante, ou seja, a energia cinética era invariável, e então pode \n",
    "calcular a energia potencial dispendida para fazer girar as pás que desta forma aqueciam a água.\n",
    "\n",
    "  Praticamente toda a energia potencial do bloco era transformada em calor pelo movimento mecânico da água. Conhecendo o\n",
    "valor do peso do bloco, da massa de água do recipiente e da variação de sua temperatura, Joule calculou a quantidade \n",
    "de energia transferida para a água, ou seja, o calor recebido e assim determinou quantos joules de energia mecânica\n",
    "eram equivalentes a 1 caloria de calor.\n",
    "  \n",
    "   Uma caloria é a quantidade de energia que, ao ser transferida para 1(uma) grama de água, varia sua temperatura 1 °C.\n"
   ]
  },
  {
   "cell_type": "markdown",
   "metadata": {},
   "source": [
    "# Processos de Propagação de Calor"
   ]
  },
  {
   "cell_type": "markdown",
   "metadata": {},
   "source": [
    "Já vimos que calor é um tipo de energia que passa de um corpo para outro quando estes estão a diferentes temperaturas. Vamos analisar agora como o calor pode ser transmitido. O calor pode ser transmitido de três modos distintos: por condução, por convecção e por irradiação.Estudaremos cada um desses modos de propagação separadamente.Mas antes observe a figura a baixo:\n",
    "<a href=\"https://ibb.co/0rTVrzP\"><img src=\"https://i.ibb.co/vkpvkM2/propaga-o-de-calor.png\" alt=\"propaga-o-de-calor\" border=\"0\"></a>\n"
   ]
  },
  {
   "cell_type": "markdown",
   "metadata": {},
   "source": [
    "# 1-Transmisão de calor por condução:\n",
    "\n",
    "Na condução o calor é transferido por contato direto entre corpos de temperatura diferentes. Este é o principal modo de transferência de energia térmica em sólidos.\n",
    "A condução depende dos materiais constituintes dos corpos, isso é, de acordo com o material, a troca de energia se dará com maior ou menor rapidez. Para uma melhor compreenção assista o a vídeo aula abaixo:\n",
    "\n"
   ]
  },
  {
   "cell_type": "code",
   "execution_count": 7,
   "metadata": {},
   "outputs": [
    {
     "data": {
      "text/html": [
       "\n",
       "    <script>\n",
       "    function code_toggle() {\n",
       "        if ($('div.cell.code_cell.rendered.selected div.input').css('display')!='none'){\n",
       "            $('div.cell.code_cell.rendered.selected div.input').hide();\n",
       "        } else {\n",
       "            $('div.cell.code_cell.rendered.selected div.input').show();\n",
       "        }\n",
       "    }\n",
       "    </script>\n",
       "\n",
       "\n",
       "<form action=\"javascript:code_toggle()\"><input type=\"submit\" id=\"toggleButton\" value=\"Toggle Code\"></form>\n"
      ],
      "text/plain": [
       "<IPython.core.display.HTML object>"
      ]
     },
     "metadata": {},
     "output_type": "display_data"
    },
    {
     "data": {
      "text/html": [
       "<iframe width=\"853\" height=\"480\" src=\"https://www.youtube.com/embed/aJAYxMCKQmg\" frameborder=\"0\" allow=\"accelerometer; autoplay; encrypted-media; gyroscope; picture-in-picture\" allowfullscreen></iframe>"
      ],
      "text/plain": [
       "<IPython.core.display.HTML object>"
      ]
     },
     "execution_count": 7,
     "metadata": {},
     "output_type": "execute_result"
    }
   ],
   "source": [
    "from IPython.core.display import display, HTML\n",
    "toggle_code_str = '''\n",
    "<form action=\"javascript:code_toggle()\"><input type=\"submit\" id=\"toggleButton\" value=\"Toggle Code\"></form>\n",
    "'''\n",
    "\n",
    "toggle_code_prepare_str = '''\n",
    "    <script>\n",
    "    function code_toggle() {\n",
    "        if ($('div.cell.code_cell.rendered.selected div.input').css('display')!='none'){\n",
    "            $('div.cell.code_cell.rendered.selected div.input').hide();\n",
    "        } else {\n",
    "            $('div.cell.code_cell.rendered.selected div.input').show();\n",
    "        }\n",
    "    }\n",
    "    </script>\n",
    "\n",
    "'''\n",
    "\n",
    "display(HTML(toggle_code_prepare_str + toggle_code_str))\n",
    "\n",
    "def toggle_code():\n",
    "    display(HTML(toggle_code_str))\n",
    "from IPython.display import HTML\n",
    "HTML('<iframe width=\"853\" height=\"480\" src=\"https://www.youtube.com/embed/aJAYxMCKQmg\" frameborder=\"0\" allow=\"accelerometer; autoplay; encrypted-media; gyroscope; picture-in-picture\" allowfullscreen></iframe>')"
   ]
  },
  {
   "cell_type": "markdown",
   "metadata": {},
   "source": [
    "# Exemplo:"
   ]
  },
  {
   "cell_type": "code",
   "execution_count": 9,
   "metadata": {},
   "outputs": [
    {
     "data": {
      "text/html": [
       "\n",
       "    <script>\n",
       "    function code_toggle() {\n",
       "        if ($('div.cell.code_cell.rendered.selected div.input').css('display')!='none'){\n",
       "            $('div.cell.code_cell.rendered.selected div.input').hide();\n",
       "        } else {\n",
       "            $('div.cell.code_cell.rendered.selected div.input').show();\n",
       "        }\n",
       "    }\n",
       "    </script>\n",
       "\n",
       "\n",
       "<form action=\"javascript:code_toggle()\"><input type=\"submit\" id=\"toggleButton\" value=\"Toggle Code\"></form>\n"
      ],
      "text/plain": [
       "<IPython.core.display.HTML object>"
      ]
     },
     "metadata": {},
     "output_type": "display_data"
    },
    {
     "data": {
      "text/html": [
       "<iframe width=\"854\" height=\"480\" src=\"https://www.youtube.com/embed/We1Se8Amy0g?list=PLrWJWW0plIKar6EwpGW-uvdKOcRwcPFC-\" frameborder=\"0\" allow=\"autoplay; encrypted-media\" allowfullscreen></iframe>"
      ],
      "text/plain": [
       "<IPython.core.display.HTML object>"
      ]
     },
     "execution_count": 9,
     "metadata": {},
     "output_type": "execute_result"
    }
   ],
   "source": [
    "from IPython.core.display import display, HTML\n",
    "toggle_code_str = '''\n",
    "<form action=\"javascript:code_toggle()\"><input type=\"submit\" id=\"toggleButton\" value=\"Toggle Code\"></form>\n",
    "'''\n",
    "\n",
    "toggle_code_prepare_str = '''\n",
    "    <script>\n",
    "    function code_toggle() {\n",
    "        if ($('div.cell.code_cell.rendered.selected div.input').css('display')!='none'){\n",
    "            $('div.cell.code_cell.rendered.selected div.input').hide();\n",
    "        } else {\n",
    "            $('div.cell.code_cell.rendered.selected div.input').show();\n",
    "        }\n",
    "    }\n",
    "    </script>\n",
    "\n",
    "'''\n",
    "\n",
    "display(HTML(toggle_code_prepare_str + toggle_code_str))\n",
    "\n",
    "def toggle_code():\n",
    "    display(HTML(toggle_code_str))\n",
    "from IPython.display import HTML\n",
    "HTML('<iframe width=\"854\" height=\"480\" src=\"https://www.youtube.com/embed/We1Se8Amy0g?list=PLrWJWW0plIKar6EwpGW-uvdKOcRwcPFC-\" frameborder=\"0\" allow=\"autoplay; encrypted-media\" allowfullscreen></iframe>')"
   ]
  },
  {
   "cell_type": "markdown",
   "metadata": {},
   "source": [
    "Os sólidos formados por átomos com um ou mais de seus elétrons mais externos “fracamente” ligados, são bons condutores térmicos e elétricos. A prata é o melhor condutor de todos os metais seguido do cobre, alumínio e o ferro.\n",
    "O mesmo não acontece com os isolantes térmicos. Diferente dos matais, os elétrons mais externos dos átomos de isolante como: Lã, madeira e papel, se encontram firmemente ligados. Assim usamos os isolantes térmicos para minimizar a transferência de calor entre corpos de diferentes temperaturas. Como por exemplo no cabo das panelas, conservação de alimentos em caixas de isopor e etc.\n",
    "\n",
    "Obs: A grandeza física que diferencia os materiais em relação à condução de calor é denominada condutibilidade térmica: Bons condutores têm alta condutibilidade; Isolantes térmicos menor condutibilidade. "
   ]
  },
  {
   "cell_type": "code",
   "execution_count": 10,
   "metadata": {},
   "outputs": [
    {
     "data": {
      "text/html": [
       "\n",
       "    <script>\n",
       "    function code_toggle() {\n",
       "        if ($('div.cell.code_cell.rendered.selected div.input').css('display')!='none'){\n",
       "            $('div.cell.code_cell.rendered.selected div.input').hide();\n",
       "        } else {\n",
       "            $('div.cell.code_cell.rendered.selected div.input').show();\n",
       "        }\n",
       "    }\n",
       "    </script>\n",
       "\n",
       "\n",
       "<form action=\"javascript:code_toggle()\"><input type=\"submit\" id=\"toggleButton\" value=\"Toggle Code\"></form>\n"
      ],
      "text/plain": [
       "<IPython.core.display.HTML object>"
      ]
     },
     "metadata": {},
     "output_type": "display_data"
    },
    {
     "data": {
      "text/html": [
       "<iframe width=\"854\" height=\"480\" src=\"https://www.youtube.com/embed/-LdTjP4UtpA?list=PLrWJWW0plIKar6EwpGW-uvdKOcRwcPFC-\" frameborder=\"0\" allow=\"autoplay; encrypted-media\" allowfullscreen></iframe>"
      ],
      "text/plain": [
       "<IPython.core.display.HTML object>"
      ]
     },
     "execution_count": 10,
     "metadata": {},
     "output_type": "execute_result"
    }
   ],
   "source": [
    "from IPython.core.display import display, HTML\n",
    "toggle_code_str = '''\n",
    "<form action=\"javascript:code_toggle()\"><input type=\"submit\" id=\"toggleButton\" value=\"Toggle Code\"></form>\n",
    "'''\n",
    "\n",
    "toggle_code_prepare_str = '''\n",
    "    <script>\n",
    "    function code_toggle() {\n",
    "        if ($('div.cell.code_cell.rendered.selected div.input').css('display')!='none'){\n",
    "            $('div.cell.code_cell.rendered.selected div.input').hide();\n",
    "        } else {\n",
    "            $('div.cell.code_cell.rendered.selected div.input').show();\n",
    "        }\n",
    "    }\n",
    "    </script>\n",
    "\n",
    "'''\n",
    "\n",
    "display(HTML(toggle_code_prepare_str + toggle_code_str))\n",
    "\n",
    "def toggle_code():\n",
    "    display(HTML(toggle_code_str))\n",
    "from IPython.display import HTML\n",
    "HTML('<iframe width=\"854\" height=\"480\" src=\"https://www.youtube.com/embed/-LdTjP4UtpA?list=PLrWJWW0plIKar6EwpGW-uvdKOcRwcPFC-\" frameborder=\"0\" allow=\"autoplay; encrypted-media\" allowfullscreen></iframe>')"
   ]
  },
  {
   "cell_type": "markdown",
   "metadata": {},
   "source": [
    "# 2-Transmisão de calor por convecção:\n",
    "\n",
    "Os líquidos e gases transmitem calor por convecção, que é a transferência de energia devido a movimentação de porções do fluido dentro do próprio fluido. Essa movimentação é devida à densidade entre elas, ou seja, a porção do fluido mais quente, portanto, menos densa sobe, e a porção mais fria, ou seja mais densa, desce. Formando assim o que chamamos de corrente de convecção.\n",
    "Esse processo de propagação térmica é melhor ilustrado na vídeo aula abaixo: \n"
   ]
  },
  {
   "cell_type": "code",
   "execution_count": 11,
   "metadata": {},
   "outputs": [
    {
     "data": {
      "text/html": [
       "\n",
       "    <script>\n",
       "    function code_toggle() {\n",
       "        if ($('div.cell.code_cell.rendered.selected div.input').css('display')!='none'){\n",
       "            $('div.cell.code_cell.rendered.selected div.input').hide();\n",
       "        } else {\n",
       "            $('div.cell.code_cell.rendered.selected div.input').show();\n",
       "        }\n",
       "    }\n",
       "    </script>\n",
       "\n",
       "\n",
       "<form action=\"javascript:code_toggle()\"><input type=\"submit\" id=\"toggleButton\" value=\"Toggle Code\"></form>\n"
      ],
      "text/plain": [
       "<IPython.core.display.HTML object>"
      ]
     },
     "metadata": {},
     "output_type": "display_data"
    },
    {
     "data": {
      "text/html": [
       "<iframe width=\"853\" height=\"480\" src=\"https://www.youtube.com/embed/1tov4XagSco\" frameborder=\"0\" allow=\"accelerometer; autoplay; encrypted-media; gyroscope; picture-in-picture\" allowfullscreen></iframe>"
      ],
      "text/plain": [
       "<IPython.core.display.HTML object>"
      ]
     },
     "execution_count": 11,
     "metadata": {},
     "output_type": "execute_result"
    }
   ],
   "source": [
    "from IPython.core.display import display, HTML\n",
    "toggle_code_str = '''\n",
    "<form action=\"javascript:code_toggle()\"><input type=\"submit\" id=\"toggleButton\" value=\"Toggle Code\"></form>\n",
    "'''\n",
    "\n",
    "toggle_code_prepare_str = '''\n",
    "    <script>\n",
    "    function code_toggle() {\n",
    "        if ($('div.cell.code_cell.rendered.selected div.input').css('display')!='none'){\n",
    "            $('div.cell.code_cell.rendered.selected div.input').hide();\n",
    "        } else {\n",
    "            $('div.cell.code_cell.rendered.selected div.input').show();\n",
    "        }\n",
    "    }\n",
    "    </script>\n",
    "\n",
    "'''\n",
    "\n",
    "display(HTML(toggle_code_prepare_str + toggle_code_str))\n",
    "\n",
    "def toggle_code():\n",
    "    display(HTML(toggle_code_str))\n",
    "from IPython.display import HTML\n",
    "HTML('<iframe width=\"853\" height=\"480\" src=\"https://www.youtube.com/embed/1tov4XagSco\" frameborder=\"0\" allow=\"accelerometer; autoplay; encrypted-media; gyroscope; picture-in-picture\" allowfullscreen></iframe>')"
   ]
  },
  {
   "cell_type": "markdown",
   "metadata": {},
   "source": [
    "# Exemplo:"
   ]
  },
  {
   "cell_type": "code",
   "execution_count": 14,
   "metadata": {},
   "outputs": [
    {
     "data": {
      "text/html": [
       "\n",
       "    <script>\n",
       "    function code_toggle() {\n",
       "        if ($('div.cell.code_cell.rendered.selected div.input').css('display')!='none'){\n",
       "            $('div.cell.code_cell.rendered.selected div.input').hide();\n",
       "        } else {\n",
       "            $('div.cell.code_cell.rendered.selected div.input').show();\n",
       "        }\n",
       "    }\n",
       "    </script>\n",
       "\n",
       "\n",
       "<form action=\"javascript:code_toggle()\"><input type=\"submit\" id=\"toggleButton\" value=\"Toggle Code\"></form>\n"
      ],
      "text/plain": [
       "<IPython.core.display.HTML object>"
      ]
     },
     "metadata": {},
     "output_type": "display_data"
    },
    {
     "data": {
      "text/html": [
       "<iframe width=\"854\" height=\"480\" src=\"https://www.youtube.com/embed/u--mFMUEaGQ?list=PLrWJWW0plIKar6EwpGW-uvdKOcRwcPFC-\" frameborder=\"0\" allow=\"autoplay; encrypted-media\" allowfullscreen></iframe>"
      ],
      "text/plain": [
       "<IPython.core.display.HTML object>"
      ]
     },
     "execution_count": 14,
     "metadata": {},
     "output_type": "execute_result"
    }
   ],
   "source": [
    "from IPython.core.display import display, HTML\n",
    "toggle_code_str = '''\n",
    "<form action=\"javascript:code_toggle()\"><input type=\"submit\" id=\"toggleButton\" value=\"Toggle Code\"></form>\n",
    "'''\n",
    "\n",
    "toggle_code_prepare_str = '''\n",
    "    <script>\n",
    "    function code_toggle() {\n",
    "        if ($('div.cell.code_cell.rendered.selected div.input').css('display')!='none'){\n",
    "            $('div.cell.code_cell.rendered.selected div.input').hide();\n",
    "        } else {\n",
    "            $('div.cell.code_cell.rendered.selected div.input').show();\n",
    "        }\n",
    "    }\n",
    "    </script>\n",
    "\n",
    "'''\n",
    "\n",
    "display(HTML(toggle_code_prepare_str + toggle_code_str))\n",
    "\n",
    "def toggle_code():\n",
    "    display(HTML(toggle_code_str))\n",
    "from IPython.display import HTML\n",
    "HTML('<iframe width=\"854\" height=\"480\" src=\"https://www.youtube.com/embed/u--mFMUEaGQ?list=PLrWJWW0plIKar6EwpGW-uvdKOcRwcPFC-\" frameborder=\"0\" allow=\"autoplay; encrypted-media\" allowfullscreen></iframe>')"
   ]
  },
  {
   "cell_type": "markdown",
   "metadata": {},
   "source": [
    "# 2-Transmisão de calor por radiação:\n",
    "\n",
    "A radiação térmica, também conhecida como irradiação, é uma forma de transferência de calor que ocorre por meio de ondas eletromagnéticas. Como essas ondas podem propagar-se no vácuo, não é necessário que haja contato entre os corpos para haver transferência de calor. Todos os corpos emitem radiações térmicas que são proporcionais à sua temperatura. Assista o vídeo abaixo:\n"
   ]
  },
  {
   "cell_type": "code",
   "execution_count": 15,
   "metadata": {},
   "outputs": [
    {
     "data": {
      "text/html": [
       "\n",
       "    <script>\n",
       "    function code_toggle() {\n",
       "        if ($('div.cell.code_cell.rendered.selected div.input').css('display')!='none'){\n",
       "            $('div.cell.code_cell.rendered.selected div.input').hide();\n",
       "        } else {\n",
       "            $('div.cell.code_cell.rendered.selected div.input').show();\n",
       "        }\n",
       "    }\n",
       "    </script>\n",
       "\n",
       "\n",
       "<form action=\"javascript:code_toggle()\"><input type=\"submit\" id=\"toggleButton\" value=\"Toggle Code\"></form>\n"
      ],
      "text/plain": [
       "<IPython.core.display.HTML object>"
      ]
     },
     "metadata": {},
     "output_type": "display_data"
    },
    {
     "data": {
      "text/html": [
       "<iframe width=\"853\" height=\"480\" src=\"https://www.youtube.com/embed/ZwIEPHPa85s\" frameborder=\"0\" allow=\"accelerometer; autoplay; encrypted-media; gyroscope; picture-in-picture\" allowfullscreen></iframe>"
      ],
      "text/plain": [
       "<IPython.core.display.HTML object>"
      ]
     },
     "execution_count": 15,
     "metadata": {},
     "output_type": "execute_result"
    }
   ],
   "source": [
    "from IPython.core.display import display, HTML\n",
    "toggle_code_str = '''\n",
    "<form action=\"javascript:code_toggle()\"><input type=\"submit\" id=\"toggleButton\" value=\"Toggle Code\"></form>\n",
    "'''\n",
    "\n",
    "toggle_code_prepare_str = '''\n",
    "    <script>\n",
    "    function code_toggle() {\n",
    "        if ($('div.cell.code_cell.rendered.selected div.input').css('display')!='none'){\n",
    "            $('div.cell.code_cell.rendered.selected div.input').hide();\n",
    "        } else {\n",
    "            $('div.cell.code_cell.rendered.selected div.input').show();\n",
    "        }\n",
    "    }\n",
    "    </script>\n",
    "\n",
    "'''\n",
    "\n",
    "display(HTML(toggle_code_prepare_str + toggle_code_str))\n",
    "\n",
    "def toggle_code():\n",
    "    display(HTML(toggle_code_str))\n",
    "from IPython.display import HTML\n",
    "HTML('<iframe width=\"853\" height=\"480\" src=\"https://www.youtube.com/embed/ZwIEPHPa85s\" frameborder=\"0\" allow=\"accelerometer; autoplay; encrypted-media; gyroscope; picture-in-picture\" allowfullscreen></iframe>')"
   ]
  }
 ],
 "metadata": {
  "kernelspec": {
   "display_name": "Python 3",
   "language": "python",
   "name": "python3"
  },
  "language_info": {
   "codemirror_mode": {
    "name": "ipython",
    "version": 3
   },
   "file_extension": ".py",
   "mimetype": "text/x-python",
   "name": "python",
   "nbconvert_exporter": "python",
   "pygments_lexer": "ipython3",
   "version": "3.7.0"
  },
  "widgets": {
   "application/vnd.jupyter.widget-state+json": {
    "state": {},
    "version_major": 1,
    "version_minor": 0
   }
  }
 },
 "nbformat": 4,
 "nbformat_minor": 2
}
