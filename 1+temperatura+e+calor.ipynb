{
 "cells": [
  {
   "cell_type": "markdown",
   "metadata": {},
   "source": [
    "# Temperatura, Calor e sua Propagação"
   ]
  },
  {
   "cell_type": "markdown",
   "metadata": {},
   "source": [
    "# Introdução"
   ]
  },
  {
   "cell_type": "markdown",
   "metadata": {},
   "source": [
    "# Sensação Térmica\n",
    "\n",
    "\n",
    "<p> Em nosso cotidiano é comum usarmos os termos frio, quente e morno para exprimir a sensação que temos ao tocar objetos. \n",
    "No entanto essa avaliação térmica que fazemos através do nosso sentido tato é impreciso, pois depende da pessoa que sente e das condições nas quais se encontrava anteriormente. \n",
    "Nós humanos somos endotérmicos, temos uma temperatura constante entre 36 e 37 graus ( abaixo desse valor é hipotermia e acima hipertermia.), Portanto, há uma estrita margem em nossa sensação térmica. \n",
    "Exemplo: Se uma pessoa está doente ou acaba de fazer exercícios físicos sua sensibilidade corporal difere de seu estado normal. \n",
    "\n",
    "<p> No entanto os seres ectotérmicos ( com sangue frio) não tem uma temperatura padrão e precisam de uma fonte de calor externa, para regular seu próprio organismo. Os répteis são um claro exemplo de animais ectotérmicos. \n",
    " \n",
    "  Assim sensação térmica é apenas uma expressão qualitativa do estado térmico de um corpo ou sistema. Para uma avaliação precisa, é necessária uma medida quantitativa, ou seja, precisamos medir a temperatura do sistema ou corpo a partir de um instrumento chamado termômetro.<p/>\n",
    "![](https://flirnews.files.wordpress.com/2014/04/tucano.jpg)\n",
    "   Sensação térmica é um termo utilizado designar como os sentidos do nosso corpo percebem a temperatura do ambiente.Vejamos:"
   ]
  },
  {
   "cell_type": "markdown",
   "metadata": {},
   "source": [
    "# Temperatura\n",
    "\n",
    "\n",
    "\n",
    "   Toda matéria independente do seu estado(sólido, líquido ou gasoso), é composta por átomos ou moléculas em constante movimento, esse movimento é denominado agitação térmica, em virtude desse movimento aleatório, os átomos ou moléculas possuem energia cinética associada a esse movimento que chamamos de energia térmica. \n",
    "   \n",
    "   A energia térmica da matéria pode variar. Exemplo, se uma certa quantidade de água for colocada junto à uma chama, o movimento de suas moléculas se torma mais intenso, isto é, sua energia térmica aumenta. Mas se adicionarmos gelo à água, ocorre a diminuição do movimento molecular, ou seja, sua energia térmica diminui. \n",
    "  \n",
    "  Para melhor entendermos esse movimento usaremos o simulador Phet. Siga os passos descrito abaixo.\n",
    "\n",
    "1º) Clique no botão “estados”\n",
    "\n",
    "2º)\n",
    "\n",
    "3º)\n",
    "\n",
    "4º)\n",
    "\n",
    "5º)\n",
    " \n",
    "  \n"
   ]
  },
  {
   "cell_type": "code",
   "execution_count": 1,
   "metadata": {},
   "outputs": [
    {
     "data": {
      "text/html": [
       "<iframe src=\"https://phet.colorado.edu/sims/html/states-of-matter-basics/latest/states-of-matter-basics_pt_BR.html\" width=\"800\" height=\"700\"></iframe>"
      ],
      "text/plain": [
       "<IPython.core.display.HTML object>"
      ]
     },
     "execution_count": 1,
     "metadata": {},
     "output_type": "execute_result"
    }
   ],
   "source": [
    "from IPython.display import HTML\n",
    "HTML('<iframe src=\"https://phet.colorado.edu/sims/html/states-of-matter-basics/latest/states-of-matter-basics_pt_BR.html\" width=\"800\" height=\"700\"></iframe>')"
   ]
  },
  {
   "cell_type": "markdown",
   "metadata": {},
   "source": [
    "Se Observarmos o  termômetro do nosso simulador veremos variar sua medida quando aquecemos ou resfriamos o sistema. Quanto \n",
    "maior a energia térmica, maior será a sua temperatura, quanto menor sua energia interna menor sua temperatura. Logo a energia \n",
    "térmica e a temperatura são grandezas diretamente proporcionais.\n",
    "    \n",
    " Podemos dizer então que:\n",
    "    \n",
    "Temperatura: É a Grandeza física que mede o grau  de agitação das moléculas que constitui o objeto ou um sistema. "
   ]
  },
  {
   "cell_type": "markdown",
   "metadata": {},
   "source": [
    "# Equilíbrio Térmico\n",
    "\n",
    "\n",
    "   Equilíbrio  térmico é sinônimo de igualdade de temperatura entre dois corpos ou sistemas termodinamico, essa condição de equalização de temperatura não envolve e nem requer uma escala termométrica. Também devemos resaltar que o equilíbrio termico não siguinifica que as condições sejam estáticas do ponto de vista microscópico,ou seja, as moléculas encontram-se constantemente em movimento desordenado ( agitação térmica)."
   ]
  },
  {
   "cell_type": "markdown",
   "metadata": {},
   "source": [
    "# Lei de Newton o resfriamento\n",
    "\n",
    "  Se um objeto que está a uma temperatura diferente da temperatura de sua vizinhança alcançara o equilíbrio térmico com ela. Um objeto relativamente quente esfria enquanto esquenta sua vizinhança. A taxa de resfriamento de um objeto depende de quanto mais quente ele esta em relação a sua vizinhança. A variação de temperatura por minuto de uma xicara de café quente será maior se o  café for colocado no interior de um congelador, em vez de na mesa. Quando o café resfriar dentro do congelador, a diferença entre sua temperatura e a vizinhança é maior do que no outro caso. A taxa de resfriamento de um objeto é aproximadamente proporcional a diferença de temperatura delT entre o objeto e sua vizinhança."
   ]
  },
  {
   "cell_type": "markdown",
   "metadata": {},
   "source": [
    "# Lei zero da termodinâmica:\n",
    "\n",
    "\n",
    "   Suponha que três objetos A, B e C estam isolados termicamente. Se A está em equilíbrio térmico com C e se B também está em equilíbrio termico com C, então, podemos afirmar que A está em equilíbrio térmico com B. \n",
    "   \n",
    "   A lei zero mostrada matemáticamente diz que, se A = C e B = C então A = B ."
   ]
  },
  {
   "cell_type": "markdown",
   "metadata": {},
   "source": [
    "![lei zero](http://alunosonline.uol.com.br/upload/conteudo_legenda/134be4aeae0bb96e2c9081764d7dedf7.jpg)"
   ]
  },
  {
   "cell_type": "markdown",
   "metadata": {},
   "source": [
    "   Se todos três corpos estão em equilíbrio térmico, então podemos dizer que eles estão todos a mesma temperatura e é aí que está a importância da lei zero, ela nos permite estabelecer a temperatura como uma propriedade mensurável  e universal da máteria, se aela é mensuravel, então  podemos criar uma escala. \n",
    "   \n",
    "   Em termos práticos, para saber se dois sistemas têm a mesma temperatura não é necessário colocá-los em contato térmico entre se, basta verificar se ambos estão em equilíbrio com um terceiro corpo que chamamos termômetro.\n",
    "   "
   ]
  },
  {
   "cell_type": "markdown",
   "metadata": {},
   "source": [
    "# Vejamos mais um exemplo de Equilíbrio Térmico:"
   ]
  },
  {
   "cell_type": "code",
   "execution_count": 7,
   "metadata": {},
   "outputs": [
    {
     "data": {
      "text/html": [
       "<iframe width=\"854\" height=\"480\" src=\"https://www.youtube.com/embed/h40lAb-PoSk\" frameborder=\"0\" allow=\"autoplay; encrypted-media\" allowfullscreen></iframe>"
      ],
      "text/plain": [
       "<IPython.core.display.HTML object>"
      ]
     },
     "execution_count": 7,
     "metadata": {},
     "output_type": "execute_result"
    }
   ],
   "source": [
    "from IPython.display import HTML\n",
    "HTML('<iframe width=\"854\" height=\"480\" src=\"https://www.youtube.com/embed/h40lAb-PoSk\" frameborder=\"0\" allow=\"autoplay; encrypted-media\" allowfullscreen></iframe>')"
   ]
  },
  {
   "cell_type": "markdown",
   "metadata": {},
   "source": [
    "# Calor\n",
    "\n",
    "\n",
    "  Calor é a energia transmitida a um corpo para que ele fique mais quente ou a energia que esse corpo perde para resfriar-se.\n",
    "  \n",
    "  É importante ressaltar que essa propagação se dá naturalmente dos corpos de maior temperatura para os de menor temperatura."
   ]
  },
  {
   "cell_type": "code",
   "execution_count": 21,
   "metadata": {},
   "outputs": [
    {
     "data": {
      "text/html": [
       "<iframe src=\"http://www.if.ufrgs.br/~leila/calor3.htm\" width=\"800\" height=\"700\"></iframe>"
      ],
      "text/plain": [
       "<IPython.core.display.HTML object>"
      ]
     },
     "execution_count": 21,
     "metadata": {},
     "output_type": "execute_result"
    }
   ],
   "source": [
    "from IPython.display import HTML\n",
    "HTML('<iframe src=\"http://www.if.ufrgs.br/~leila/calor3.htm\" width=\"800\" height=\"700\"></iframe>')"
   ]
  },
  {
   "cell_type": "code",
   "execution_count": 9,
   "metadata": {},
   "outputs": [
    {
     "ename": "ModuleNotFoundError",
     "evalue": "No module named 'Ipythn'",
     "output_type": "error",
     "traceback": [
      "\u001b[0;31m---------------------------------------------------------------------------\u001b[0m",
      "\u001b[0;31mModuleNotFoundError\u001b[0m                       Traceback (most recent call last)",
      "\u001b[0;32m<ipython-input-9-af326ecc0171>\u001b[0m in \u001b[0;36m<module>\u001b[0;34m()\u001b[0m\n\u001b[0;32m----> 1\u001b[0;31m \u001b[0;32mfrom\u001b[0m \u001b[0mIpythn\u001b[0m\u001b[0;34m.\u001b[0m\u001b[0mdisplay\u001b[0m \u001b[0;32mimport\u001b[0m \u001b[0mHTML\u001b[0m\u001b[0;34m\u001b[0m\u001b[0m\n\u001b[0m\u001b[1;32m      2\u001b[0m \u001b[0mHTML\u001b[0m \u001b[0;34m(\u001b[0m\u001b[0;34m''\u001b[0m\u001b[0;34m)\u001b[0m\u001b[0;34m\u001b[0m\u001b[0m\n",
      "\u001b[0;31mModuleNotFoundError\u001b[0m: No module named 'Ipythn'"
     ]
    }
   ],
   "source": [
    "from Ipythn.display import HTML\n",
    "HTML ('')"
   ]
  },
  {
   "cell_type": "markdown",
   "metadata": {},
   "source": [
    "# Processos de Propagação de Calor"
   ]
  },
  {
   "cell_type": "markdown",
   "metadata": {},
   "source": [
    "Já vimos que calor é um tipo de energia que passa de um corpo para outro quando estes estão a diferentes temperaturas. Vamos analisar agora como o calor pode ser transmitido. O calor pode ser transmitido de três modos distintos: por condução, por convecção e por irradiação.Estudaremos cada um desses modos de propagação separadamente.Mas antes observe a figura a baixo:\n",
    "![](http://www.fq.pt/images/energia/calor.png)"
   ]
  },
  {
   "cell_type": "markdown",
   "metadata": {},
   "source": [
    "# 1-Transmisão de calor por condução:\n",
    "\n",
    "Ao aquecermos uma barra metálica, como na figura abaixo, os átomos que constituem a extremidade mais próxima do fogo passam a vibrar com maior intensidade, devido ao aumento da temperatura. Essa agitação mais intensa é transmitida para os átomos mais próximos, e as regiões vizinhas também se aquecem.\n",
    "![propagação de calor](http://www.geocities.ws/saladefisica8/termologia/conducao30.gif)"
   ]
  },
  {
   "cell_type": "code",
   "execution_count": null,
   "metadata": {
    "collapsed": true
   },
   "outputs": [],
   "source": []
  },
  {
   "cell_type": "markdown",
   "metadata": {},
   "source": [
    "# Exemplo:"
   ]
  },
  {
   "cell_type": "code",
   "execution_count": 10,
   "metadata": {},
   "outputs": [
    {
     "data": {
      "text/html": [
       "<iframe width=\"854\" height=\"480\" src=\"https://www.youtube.com/embed/II7oMgZTlUM\" frameborder=\"0\" allow=\"autoplay; encrypted-media\" allowfullscreen></iframe>"
      ],
      "text/plain": [
       "<IPython.core.display.HTML object>"
      ]
     },
     "execution_count": 10,
     "metadata": {},
     "output_type": "execute_result"
    }
   ],
   "source": [
    "from IPython.display import HTML\n",
    "HTML ('<iframe width=\"854\" height=\"480\" src=\"https://www.youtube.com/embed/II7oMgZTlUM\" frameborder=\"0\" allow=\"autoplay; encrypted-media\" allowfullscreen></iframe>')"
   ]
  },
  {
   "cell_type": "markdown",
   "metadata": {},
   "source": [
    "## Lei de Fourier\n",
    "\n",
    "A quantidade de calor que atravessa um condutor, por unidade de tempo, chama-se fluxo de calor. A lei que rege esse processo de transmissão de calor foi determinada experimentalmente pelo matemático francês Jean-Baptiste Fourier (1768-1830)\n",
    "\n",
    "A lei de Fourier diz que a quantidade de calor Q que atravessa uma parede, sob uma diferença de temperatura constante, é diretamente proporcional à área da secção transversal A, à diferença de temperatura (Dq) entre as regiões separadas pela parede e ao tempo  (Dt) de transmissão e inversamente proporcional à extensão atravessada, ou espessura (l) da parede.\n",
    "![](http://s1.static.brasilescola.uol.com.br/artigos/transmissao-calor-por-conducao-1320156163.jpg?i=http://brasilescola.uol.com.br/upload/conteudo/images/transmissao-calor-por-conducao-1320156163.jpg&w=600&h=350&c=FFFFFF&t=1)"
   ]
  },
  {
   "cell_type": "code",
   "execution_count": 22,
   "metadata": {},
   "outputs": [
    {
     "data": {
      "text/html": [
       "<iframe src=\"http://www.fisica.ufpb.br/~romero/objetosaprendizagem/Rived/18TransCalor/animacao/transmissao_de_calor.html\" width=\"750\" height=\"500\"></iframe>"
      ],
      "text/plain": [
       "<IPython.core.display.HTML object>"
      ]
     },
     "execution_count": 22,
     "metadata": {},
     "output_type": "execute_result"
    }
   ],
   "source": [
    "from IPython.display import HTML\n",
    "HTML('<iframe src=\"http://www.fisica.ufpb.br/~romero/objetosaprendizagem/Rived/18TransCalor/animacao/transmissao_de_calor.html\" width=\"750\" height=\"500\"></iframe>')"
   ]
  },
  {
   "cell_type": "markdown",
   "metadata": {},
   "source": [
    "Cada material possui um coeficiente de condutividade térmica, que expressa a quantidade de calor conduzida por segundo através de uma camada de 1m de espessura por 1m2 de área a uma diferença de 1oC na temperatura.\n",
    "![](http://3.bp.blogspot.com/-eBP2QAPl9sc/UD60Vfx2cmI/AAAAAAAAB2U/MBDq-JMG4KU/s1600/tabela-de-condutividade.png)"
   ]
  },
  {
   "cell_type": "code",
   "execution_count": 13,
   "metadata": {},
   "outputs": [
    {
     "data": {
      "text/html": [
       "<iframe width=\"854\" height=\"480\" src=\"https://www.youtube.com/embed/We1Se8Amy0g?list=PLrWJWW0plIKar6EwpGW-uvdKOcRwcPFC-\" frameborder=\"0\" allow=\"autoplay; encrypted-media\" allowfullscreen></iframe>"
      ],
      "text/plain": [
       "<IPython.core.display.HTML object>"
      ]
     },
     "execution_count": 13,
     "metadata": {},
     "output_type": "execute_result"
    }
   ],
   "source": [
    "from IPython.display import HTML\n",
    "HTML('<iframe width=\"854\" height=\"480\" src=\"https://www.youtube.com/embed/We1Se8Amy0g?list=PLrWJWW0plIKar6EwpGW-uvdKOcRwcPFC-\" frameborder=\"0\" allow=\"autoplay; encrypted-media\" allowfullscreen></iframe>')"
   ]
  },
  {
   "cell_type": "markdown",
   "metadata": {},
   "source": [
    "# 2-Transmisão de calor por convecção:\n",
    "\n",
    "A convecção térmica é o processo de transmissão de calor em que a energia térmica se propaga através do transporte de matéria, devido a uma diferença de densidade e a ação da gravidade.Este processo ocorre somente com os fluidos, isto é, com os líquidos e com os gases.\n",
    "![](https://upload.wikimedia.org/wikipedia/commons/thumb/0/08/Convection.gif/200px-Convection.gif)\n"
   ]
  },
  {
   "cell_type": "markdown",
   "metadata": {},
   "source": [
    "# Exemplo:"
   ]
  },
  {
   "cell_type": "code",
   "execution_count": 14,
   "metadata": {},
   "outputs": [
    {
     "data": {
      "text/html": [
       "<iframe width=\"854\" height=\"480\" src=\"https://www.youtube.com/embed/u--mFMUEaGQ?list=PLrWJWW0plIKar6EwpGW-uvdKOcRwcPFC-\" frameborder=\"0\" allow=\"autoplay; encrypted-media\" allowfullscreen></iframe>"
      ],
      "text/plain": [
       "<IPython.core.display.HTML object>"
      ]
     },
     "execution_count": 14,
     "metadata": {},
     "output_type": "execute_result"
    }
   ],
   "source": [
    "from IPython.display import HTML\n",
    "HTML('<iframe width=\"854\" height=\"480\" src=\"https://www.youtube.com/embed/u--mFMUEaGQ?list=PLrWJWW0plIKar6EwpGW-uvdKOcRwcPFC-\" frameborder=\"0\" allow=\"autoplay; encrypted-media\" allowfullscreen></iframe>')"
   ]
  },
  {
   "cell_type": "markdown",
   "metadata": {},
   "source": [
    "# Inversão térmica\n",
    "\n",
    "  A Inversão térmica é um fenômeno natural registrado em qualquer parte do planeta, que corresponde à inversão das camadas atmosféricas (em escala local) de forma que o ar frio permanece em baixas altitudes e o ar quente nas camadas mais elevadas. Dessa maneira, ocorre assim, uma desestabilização momentânea da circulação atmosférica e alteração na temperatura."
   ]
  },
  {
   "cell_type": "code",
   "execution_count": 15,
   "metadata": {},
   "outputs": [
    {
     "data": {
      "text/html": [
       "<iframe width=\"854\" height=\"480\" src=\"https://www.youtube.com/embed/SYKeSb2iAQQ\" frameborder=\"0\" allow=\"autoplay; encrypted-media\" allowfullscreen></iframe>"
      ],
      "text/plain": [
       "<IPython.core.display.HTML object>"
      ]
     },
     "execution_count": 15,
     "metadata": {},
     "output_type": "execute_result"
    }
   ],
   "source": [
    "from IPython.display import HTML\n",
    "HTML('<iframe width=\"854\" height=\"480\" src=\"https://www.youtube.com/embed/SYKeSb2iAQQ\" frameborder=\"0\" allow=\"autoplay; encrypted-media\" allowfullscreen></iframe>')"
   ]
  },
  {
   "cell_type": "markdown",
   "metadata": {},
   "source": [
    "# 2-Transmisão de calor por radiação:\n",
    "\n",
    "A radiação térmica, também conhecida como irradiação, é uma forma de transferência de calor que ocorre por meio de ondas eletromagnéticas. Como essas ondas podem propagar-se no vácuo, não é necessário que haja contato entre os corpos para haver transferência de calor. Todos os corpos emitem radiações térmicas que são proporcionais à sua temperatura. \n",
    "![](https://lh4.googleusercontent.com/-emvEI2kc_q8/UewYlgnNFCI/AAAAAAAAcp4/hkmn7LkwRs4/s320/fogueira1.gif)"
   ]
  },
  {
   "cell_type": "markdown",
   "metadata": {},
   "source": [
    "# Exemplo:"
   ]
  },
  {
   "cell_type": "code",
   "execution_count": 16,
   "metadata": {},
   "outputs": [
    {
     "data": {
      "text/html": [
       "<iframe width=\"854\" height=\"480\" src=\"https://www.youtube.com/embed/m_Ki-KMuHYE\" frameborder=\"0\" allow=\"autoplay; encrypted-media\" allowfullscreen></iframe>"
      ],
      "text/plain": [
       "<IPython.core.display.HTML object>"
      ]
     },
     "execution_count": 16,
     "metadata": {},
     "output_type": "execute_result"
    }
   ],
   "source": [
    "from IPython.display import HTML\n",
    "HTML('<iframe width=\"854\" height=\"480\" src=\"https://www.youtube.com/embed/m_Ki-KMuHYE\" frameborder=\"0\" allow=\"autoplay; encrypted-media\" allowfullscreen></iframe>')"
   ]
  },
  {
   "cell_type": "markdown",
   "metadata": {},
   "source": []
  }
 ],
 "metadata": {
  "kernelspec": {
   "display_name": "Python 3",
   "language": "python",
   "name": "python3"
  },
  "language_info": {
   "codemirror_mode": {
    "name": "ipython",
    "version": 3
   },
   "file_extension": ".py",
   "mimetype": "text/x-python",
   "name": "python",
   "nbconvert_exporter": "python",
   "pygments_lexer": "ipython3",
   "version": "3.6.5"
  },
  "widgets": {
   "application/vnd.jupyter.widget-state+json": {
    "state": {},
    "version_major": 1,
    "version_minor": 0
   }
  }
 },
 "nbformat": 4,
 "nbformat_minor": 2
}
