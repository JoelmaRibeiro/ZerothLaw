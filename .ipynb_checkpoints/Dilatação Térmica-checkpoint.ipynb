{
 "cells": [
  {
   "cell_type": "markdown",
   "metadata": {},
   "source": [
    "# Dilatação"
   ]
  },
  {
   "cell_type": "markdown",
   "metadata": {},
   "source": [
    "# Introdução\n",
    "\n",
    " A temperatura é uma medida de agitação molecular.Aumentando a temperatura de um corpo, a agitação de suas moléculas aumentará, \n",
    "com isso elas se afastarão,fazendo com que aquele corpo ocupe um espaço maior. Na verdade, o que acontece é que as moléculas \n",
    "se afastam mais do que se aproximam, pois a força de repulsão aumenta a uma taxa maior que a de atração.\n",
    "\n"
   ]
  },
  {
   "cell_type": "markdown",
   "metadata": {},
   "source": [
    "A dilatação térmica é o fenômeno que um corpo apresenta ao variar suas dimensões geométricas quando sua temperatura se modifica,\n",
    "sendo, inclusive, esse o fenômeno usado para a construção de termômetros de coluna líquida que estudamos no notebook( 2 dois \n",
    "TITULO NÃo definido ). Dependendo da quantidade de dimensões variantes, classificamos adilatação térmica em linear, superficial \n",
    "ou volumétrica."
   ]
  },
  {
   "cell_type": "code",
   "execution_count": null,
   "metadata": {
    "collapsed": true
   },
   "outputs": [],
   "source": []
  },
  {
   "cell_type": "markdown",
   "metadata": {},
   "source": [
    "# Dilatação Linear\n",
    "\n",
    "Apenas uma dimensão varia. Por exemplo: uma barra de ferro cujo comprimento aumenta quando aquecida."
   ]
  },
  {
   "cell_type": "code",
   "execution_count": 3,
   "metadata": {},
   "outputs": [
    {
     "data": {
      "text/html": [
       "<iframe src=\"http://www.if.ufrgs.br/~leila/linear.htm\" width=\"750\" height=\"650\"></iframe>"
      ],
      "text/plain": [
       "<IPython.core.display.HTML object>"
      ]
     },
     "execution_count": 3,
     "metadata": {},
     "output_type": "execute_result"
    }
   ],
   "source": [
    "from IPython.display import HTML\n",
    "HTML ('<iframe src=\"http://www.if.ufrgs.br/~leila/linear.htm\" width=\"750\" height=\"650\"></iframe>')"
   ]
  },
  {
   "cell_type": "code",
   "execution_count": null,
   "metadata": {
    "collapsed": true
   },
   "outputs": [],
   "source": []
  },
  {
   "cell_type": "code",
   "execution_count": 4,
   "metadata": {},
   "outputs": [
    {
     "data": {
      "text/html": [
       "<iframe width=\"854\" height=\"480\" src=\"https://www.youtube.com/embed/JoYkzWxs4Tg?list=PLrWJWW0plIKar6EwpGW-uvdKOcRwcPFC-\" frameborder=\"0\" allow=\"autoplay; encrypted-media\" allowfullscreen></iframe>"
      ],
      "text/plain": [
       "<IPython.core.display.HTML object>"
      ]
     },
     "execution_count": 4,
     "metadata": {},
     "output_type": "execute_result"
    }
   ],
   "source": [
    "from IPython.display import HTML\n",
    "HTML('<iframe width=\"854\" height=\"480\" src=\"https://www.youtube.com/embed/JoYkzWxs4Tg?list=PLrWJWW0plIKar6EwpGW-uvdKOcRwcPFC-\" frameborder=\"0\" allow=\"autoplay; encrypted-media\" allowfullscreen></iframe>')"
   ]
  },
  {
   "cell_type": "markdown",
   "metadata": {},
   "source": [
    "# Lâminas bimetálicas"
   ]
  },
  {
   "cell_type": "code",
   "execution_count": 5,
   "metadata": {},
   "outputs": [
    {
     "data": {
      "text/html": [
       "<iframe width=\"854\" height=\"480\" src=\"https://www.youtube.com/embed/Dr4wtWdr2yU?list=PLrWJWW0plIKar6EwpGW-uvdKOcRwcPFC-\" frameborder=\"0\" allow=\"autoplay; encrypted-media\" allowfullscreen></iframe>"
      ],
      "text/plain": [
       "<IPython.core.display.HTML object>"
      ]
     },
     "execution_count": 5,
     "metadata": {},
     "output_type": "execute_result"
    }
   ],
   "source": [
    "from IPython.display import HTML\n",
    "HTML ('<iframe width=\"854\" height=\"480\" src=\"https://www.youtube.com/embed/Dr4wtWdr2yU?list=PLrWJWW0plIKar6EwpGW-uvdKOcRwcPFC-\" frameborder=\"0\" allow=\"autoplay; encrypted-media\" allowfullscreen></iframe>')"
   ]
  },
  {
   "cell_type": "markdown",
   "metadata": {},
   "source": [
    "# Dilatação Superficial\n",
    "\n",
    "Apenas duas dimensões variam. Lembrando que duas dimensões podem representar uma área, pode-se dizer que a\n",
    "dilatação superficial provoca uma variação de uma área. Por exemplo: uma chapa de aço que tem sua área aumentada quando aquecida."
   ]
  },
  {
   "cell_type": "code",
   "execution_count": 6,
   "metadata": {},
   "outputs": [
    {
     "data": {
      "text/html": [
       "<iframe width=\"854\" height=\"480\" src=\"https://www.youtube.com/embed/FpF_Xx5Gwuw\" frameborder=\"0\" allow=\"autoplay; encrypted-media\" allowfullscreen></iframe>"
      ],
      "text/plain": [
       "<IPython.core.display.HTML object>"
      ]
     },
     "execution_count": 6,
     "metadata": {},
     "output_type": "execute_result"
    }
   ],
   "source": [
    "from IPython.display import HTML\n",
    "HTML('<iframe width=\"854\" height=\"480\" src=\"https://www.youtube.com/embed/FpF_Xx5Gwuw\" frameborder=\"0\" allow=\"autoplay; encrypted-media\" allowfullscreen></iframe>')"
   ]
  },
  {
   "cell_type": "markdown",
   "metadata": {},
   "source": [
    "# Dilatação volumétrica\n",
    "\n",
    "As três dimensões do corpo variam.Lembrando que três dimensões podem representar um volume, pode-se dizer que a dilatação \n",
    "volumétrica provoca uma variação de um volume. Por exemplo: um bloco de cobre que tem seu volume aumentado quando aquecido."
   ]
  },
  {
   "cell_type": "code",
   "execution_count": 7,
   "metadata": {},
   "outputs": [
    {
     "data": {
      "text/html": [
       "<iframe width=\"854\" height=\"480\" src=\"https://www.youtube.com/embed/jf0V_WgBem4\" frameborder=\"0\" allow=\"autoplay; encrypted-media\" allowfullscreen></iframe>"
      ],
      "text/plain": [
       "<IPython.core.display.HTML object>"
      ]
     },
     "execution_count": 7,
     "metadata": {},
     "output_type": "execute_result"
    }
   ],
   "source": [
    "from IPython.display import HTML\n",
    "HTML('<iframe width=\"854\" height=\"480\" src=\"https://www.youtube.com/embed/jf0V_WgBem4\" frameborder=\"0\" allow=\"autoplay; encrypted-media\" allowfullscreen></iframe>')"
   ]
  },
  {
   "cell_type": "markdown",
   "metadata": {},
   "source": [
    "# Dilatação de gases e líquidos"
   ]
  },
  {
   "cell_type": "code",
   "execution_count": 8,
   "metadata": {},
   "outputs": [
    {
     "data": {
      "text/html": [
       "<iframe width=\"854\" height=\"480\" src=\"https://www.youtube.com/embed/OpJR6N8PR_w\" frameborder=\"0\" allow=\"autoplay; encrypted-media\" allowfullscreen></iframe>"
      ],
      "text/plain": [
       "<IPython.core.display.HTML object>"
      ]
     },
     "execution_count": 8,
     "metadata": {},
     "output_type": "execute_result"
    }
   ],
   "source": [
    "from IPython.display import HTML\n",
    "HTML('<iframe width=\"854\" height=\"480\" src=\"https://www.youtube.com/embed/OpJR6N8PR_w\" frameborder=\"0\" allow=\"autoplay; encrypted-media\" allowfullscreen></iframe>')"
   ]
  },
  {
   "cell_type": "code",
   "execution_count": 9,
   "metadata": {},
   "outputs": [
    {
     "data": {
      "text/html": [
       "<iframe width=\"854\" height=\"480\" src=\"https://www.youtube.com/embed/LnohD1uy9mI?list=PLrWJWW0plIKar6EwpGW-uvdKOcRwcPFC-\" frameborder=\"0\" allow=\"autoplay; encrypted-media\" allowfullscreen></iframe>"
      ],
      "text/plain": [
       "<IPython.core.display.HTML object>"
      ]
     },
     "execution_count": 9,
     "metadata": {},
     "output_type": "execute_result"
    }
   ],
   "source": [
    "from IPython.display import HTML\n",
    "HTML('<iframe width=\"854\" height=\"480\" src=\"https://www.youtube.com/embed/LnohD1uy9mI?list=PLrWJWW0plIKar6EwpGW-uvdKOcRwcPFC-\" frameborder=\"0\" allow=\"autoplay; encrypted-media\" allowfullscreen></iframe>')"
   ]
  },
  {
   "cell_type": "code",
   "execution_count": 10,
   "metadata": {},
   "outputs": [
    {
     "data": {
      "text/html": [
       "<iframe width=\"854\" height=\"480\" src=\"https://www.youtube.com/embed/cAoHAecKbYA\" frameborder=\"0\" allow=\"autoplay; encrypted-media\" allowfullscreen></iframe>"
      ],
      "text/plain": [
       "<IPython.core.display.HTML object>"
      ]
     },
     "execution_count": 10,
     "metadata": {},
     "output_type": "execute_result"
    }
   ],
   "source": [
    "from IPython.display import HTML\n",
    "HTML('<iframe width=\"854\" height=\"480\" src=\"https://www.youtube.com/embed/cAoHAecKbYA\" frameborder=\"0\" allow=\"autoplay; encrypted-media\" allowfullscreen></iframe>')"
   ]
  },
  {
   "cell_type": "markdown",
   "metadata": {
    "collapsed": true
   },
   "source": [
    "## Dilatação anômala da água\n",
    "\n",
    "No intervalo de 0 °C a 4 °C, a água sofre contração, isto é, o volume diminui; só a partir de 4 °C, a água apresenta dilatação. Durante o resfriamento até 4 °C, a água da superfície sofre contração e afunda, pois torna-se mais densa. Com isso, a água mais quente sobe. Quando a temperatura da água chega a 4 ºC, o movimento de convecção é interrompido, pois a densidade da água atinge seu valor máximo. Ao passar de 4 ºC para 0 ºC, o volume da água aumenta em vez de diminuir e, assim, a densidade também diminui. Então, as porções de água mais próximas da superfície não afundam mais e esfriam até se solidificar, formando uma camada de gelo sobre a água líquida. Como o gelo é um bom isolante térmico, as porções de água no interior do lago se mantêm a temperaturas próximas de 4 ºC e continuam no estado líquido.\n"
   ]
  },
  {
   "cell_type": "code",
   "execution_count": 11,
   "metadata": {},
   "outputs": [
    {
     "data": {
      "text/html": [
       "<iframe width=\"854\" height=\"480\" src=\"https://www.youtube.com/embed/wRWbVsakqes\" frameborder=\"0\" allow=\"autoplay; encrypted-media\" allowfullscreen></iframe>"
      ],
      "text/plain": [
       "<IPython.core.display.HTML object>"
      ]
     },
     "execution_count": 11,
     "metadata": {},
     "output_type": "execute_result"
    }
   ],
   "source": [
    "from IPython.display import HTML\n",
    "HTML('<iframe width=\"854\" height=\"480\" src=\"https://www.youtube.com/embed/wRWbVsakqes\" frameborder=\"0\" allow=\"autoplay; encrypted-media\" allowfullscreen></iframe>')"
   ]
  },
  {
   "cell_type": "code",
   "execution_count": 12,
   "metadata": {},
   "outputs": [
    {
     "data": {
      "text/html": [
       "<iframe width=\"854\" height=\"480\" src=\"https://www.youtube.com/embed/mlKvJj-sdm8\" frameborder=\"0\" allow=\"autoplay; encrypted-media\" allowfullscreen></iframe>"
      ],
      "text/plain": [
       "<IPython.core.display.HTML object>"
      ]
     },
     "execution_count": 12,
     "metadata": {},
     "output_type": "execute_result"
    }
   ],
   "source": [
    "from IPython.display import HTML\n",
    "HTML('<iframe width=\"854\" height=\"480\" src=\"https://www.youtube.com/embed/mlKvJj-sdm8\" frameborder=\"0\" allow=\"autoplay; encrypted-media\" allowfullscreen></iframe>')"
   ]
  },
  {
   "cell_type": "code",
   "execution_count": null,
   "metadata": {
    "collapsed": true
   },
   "outputs": [],
   "source": []
  }
 ],
 "metadata": {
  "kernelspec": {
   "display_name": "Python 3",
   "language": "python",
   "name": "python3"
  },
  "language_info": {
   "codemirror_mode": {
    "name": "ipython",
    "version": 3
   },
   "file_extension": ".py",
   "mimetype": "text/x-python",
   "name": "python",
   "nbconvert_exporter": "python",
   "pygments_lexer": "ipython3",
   "version": "3.6.5"
  }
 },
 "nbformat": 4,
 "nbformat_minor": 2
}
