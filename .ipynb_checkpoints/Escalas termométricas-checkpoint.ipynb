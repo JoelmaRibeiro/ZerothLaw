{
 "cells": [
  {
   "cell_type": "markdown",
   "metadata": {},
   "source": [
    "# Termômetros: grandezas e equações de conversão"
   ]
  },
  {
   "cell_type": "markdown",
   "metadata": {},
   "source": [
    "# Introdução"
   ]
  },
  {
   "cell_type": "markdown",
   "metadata": {
    "collapsed": true
   },
   "source": [
    "# Termômetros\n",
    "\n"
   ]
  },
  {
   "cell_type": "code",
   "execution_count": 2,
   "metadata": {},
   "outputs": [
    {
     "data": {
      "text/html": [
       "<iframe src=\"https://www.vascak.cz/data/android/physicsatschool/templateflash.php?s=mf_vnitrni_energie&l=pt\" width=\"800\" height=\"600\"></iframe>"
      ],
      "text/plain": [
       "<IPython.core.display.HTML object>"
      ]
     },
     "execution_count": 2,
     "metadata": {},
     "output_type": "execute_result"
    }
   ],
   "source": [
    "from IPython.display import HTML\n",
    "HTML('<iframe src=\"https://www.vascak.cz/data/android/physicsatschool/templateflash.php?s=mf_vnitrni_energie&l=pt\" width=\"800\" height=\"600\"></iframe>')"
   ]
  },
  {
   "cell_type": "code",
   "execution_count": null,
   "metadata": {
    "collapsed": true
   },
   "outputs": [],
   "source": []
  },
  {
   "cell_type": "code",
   "execution_count": 3,
   "metadata": {},
   "outputs": [
    {
     "data": {
      "text/html": [
       "<iframe width=\"854\" height=\"480\" src=\"https://www.youtube.com/embed/QovZerW4u3w\" frameborder=\"0\" allow=\"autoplay; encrypted-media\" allowfullscreen></iframe>"
      ],
      "text/plain": [
       "<IPython.core.display.HTML object>"
      ]
     },
     "execution_count": 3,
     "metadata": {},
     "output_type": "execute_result"
    }
   ],
   "source": [
    "from IPython.display import HTML\n",
    "HTML('<iframe width=\"854\" height=\"480\" src=\"https://www.youtube.com/embed/QovZerW4u3w\" frameborder=\"0\" allow=\"autoplay; encrypted-media\" allowfullscreen></iframe>')"
   ]
  },
  {
   "cell_type": "markdown",
   "metadata": {
    "collapsed": true
   },
   "source": [
    "O princípio de funcionamento dos termômetros basea-se na relação de proporcionalidade entre agitação térmica e uma grandeza física que varia com a temperatura. "
   ]
  },
  {
   "cell_type": "markdown",
   "metadata": {},
   "source": [
    "# substâncias termométricas:\n",
    "\n",
    "Como não se pode medir a vibração de cada molécula de um corpo isoladamente, pode-se medir sua temperatura de maneira indireta utilizando certas substâncias. Essas substâncias recebem o nome de substâncias termométricas e a grandeza que varia com a temperatura recebe o nome de grandeza termométrica.Por isso, ao colocar qualquer tipo de termômetro em contato com um corpo, é necessário agurada um certo intervalo de tempo até que se atinja o estado de equilíbrio termico entre o termômetro e o corpo."
   ]
  },
  {
   "cell_type": "markdown",
   "metadata": {},
   "source": [
    "Ex.: \n",
    "1) Régua metálica: Quando aquecida sofre um aumento em comprimento.\n",
    "\n",
    "\n",
    "A substância termométricar é a régua metalica;\n",
    "\n",
    "A grandeza termométrica, seu comprimento, que varia com a temperatura."
   ]
  },
  {
   "cell_type": "markdown",
   "metadata": {},
   "source": [
    "EX.: 2) Termômetro a gás:\n",
    "\n",
    "![](https://upload.wikimedia.org/wikipedia/it/thumb/6/6e/Termometro_a_gas.PNG/220px-Termometro_a_gas.PNG)\n",
    "A substância termoétrica é o gás;\n",
    "\n",
    "A grandeza termométrica é o volume do gás ( se a pressão permanece constante) ou a pressão do gás ( quando o volume é constate). "
   ]
  },
  {
   "cell_type": "code",
   "execution_count": null,
   "metadata": {
    "collapsed": true
   },
   "outputs": [],
   "source": []
  },
  {
   "cell_type": "code",
   "execution_count": null,
   "metadata": {
    "collapsed": true
   },
   "outputs": [],
   "source": []
  },
  {
   "cell_type": "markdown",
   "metadata": {},
   "source": [
    "Outras substâncias podem ser usadas para a construção de um termômetro como por exemplo: o alcool com corante e o mercúrio, \n",
    "a razão para se utilizar esta ou aquela substância é justificada pelas diversas aplicações que eles podem ter. por exemplo \n",
    "não podemos usar um termômetro acústico para medir a terperatura de um ser humano pois são usados para medir temperatura\n",
    "muito baixas(2K e 40K), seu principio de funcionamento é baseado na variação do som ( ou ultra-som) com a temperatura.\n"
   ]
  },
  {
   "cell_type": "markdown",
   "metadata": {},
   "source": [
    "## Calibração ou Graduação de um termômetro\n",
    "\n",
    "A graduação de um termômetro  consiste basicamente na determinação dos chamados  pontos fixos. Os pontos fixos  servem como referência para medida de todos os outros valores de temperatura. Essa graduação é feita a partir de uma substância pura, no caso a água a uma pressão de 1 atm (atmosfera). Assim, por exemplo, em um termômetro em que a grandeza termométrica é a altura da coluna de um líquido, coloca-se o instrumento em contato com gelo em fusão e mede-se a altura atingida pelo líquido. Associa-se um valor numérico a essa altura. Repetimos o mesmo procedimento em relação à água em ebulição. ![](http://www.estudokids.com.br/wp-content/uploads/2014/11/ponto-de-fusao-e-ponto-de-ebulicao.png)Marcados os extremos do intervalo entre as temperaturas associadas aos pontos fixos, divide-se esse intervalo em determinado número de partes menores e iguais."
   ]
  },
  {
   "cell_type": "markdown",
   "metadata": {},
   "source": [
    "# Escalas termométricas\n",
    "\n",
    "A escala Celsius é a mais utilizada no Brasil, entre tanto, muitos países não a utilizam. Devido a esse fato, surge a necessidade de se estabelecer uma relação de correspondência entre essas. Para isso, partimos dos pontos fixos dessas, estabelecendo uma correspondência física, ou seja, o mesmo grau de agitação molecular corresponde a mesma temperatura nas duas escalas, ainda que seus valores numéricos sejam diferentes.\n"
   ]
  },
  {
   "cell_type": "markdown",
   "metadata": {},
   "source": [
    "## Esclas termométricas Celsius e Fahrenheit: Equação de conversão"
   ]
  },
  {
   "cell_type": "code",
   "execution_count": 4,
   "metadata": {},
   "outputs": [
    {
     "data": {
      "text/html": [
       "<iframe src=\"http://www.if.ufrgs.br/~leila/cefgif.htm\" width=\"750\" height=\"650\"></iframe>"
      ],
      "text/plain": [
       "<IPython.core.display.HTML object>"
      ]
     },
     "execution_count": 4,
     "metadata": {},
     "output_type": "execute_result"
    }
   ],
   "source": [
    "from IPython.display import HTML\n",
    "HTML('<iframe src=\"http://www.if.ufrgs.br/~leila/cefgif.htm\" width=\"750\" height=\"650\"></iframe>')"
   ]
  },
  {
   "cell_type": "markdown",
   "metadata": {},
   "source": [
    "## Escala Kelvin: Escala Absoluta"
   ]
  },
  {
   "cell_type": "code",
   "execution_count": 5,
   "metadata": {},
   "outputs": [
    {
     "data": {
      "text/html": [
       "<iframe src=\"http://www.if.ufrgs.br/~leila/cekgif.htm\" width=\"750\" height=\"650\"></iframe>"
      ],
      "text/plain": [
       "<IPython.core.display.HTML object>"
      ]
     },
     "execution_count": 5,
     "metadata": {},
     "output_type": "execute_result"
    }
   ],
   "source": [
    "from IPython.display import HTML\n",
    "HTML('<iframe src=\"http://www.if.ufrgs.br/~leila/cekgif.htm\" width=\"750\" height=\"650\"></iframe>')"
   ]
  },
  {
   "cell_type": "code",
   "execution_count": 6,
   "metadata": {},
   "outputs": [
    {
     "data": {
      "text/html": [
       "<iframe src=\"https://www.vascak.cz/data/android/physicsatschool/templateimg.php?s=mf_teplotni_stupnice&l=pt\" width=\"800\" height=\"600\"></iframe"
      ],
      "text/plain": [
       "<IPython.core.display.HTML object>"
      ]
     },
     "execution_count": 6,
     "metadata": {},
     "output_type": "execute_result"
    }
   ],
   "source": [
    "from IPython.display import HTML\n",
    "HTML('<iframe src=\"https://www.vascak.cz/data/android/physicsatschool/templateimg.php?s=mf_teplotni_stupnice&l=pt\" width=\"800\" height=\"600\"></iframe')"
   ]
  },
  {
   "cell_type": "code",
   "execution_count": null,
   "metadata": {
    "collapsed": true
   },
   "outputs": [],
   "source": []
  },
  {
   "cell_type": "code",
   "execution_count": 7,
   "metadata": {},
   "outputs": [
    {
     "data": {
      "text/html": [
       "<iframe width=\"854\" height=\"480\" src=\"https://www.youtube.com/embed/fzLihPjZZmk\" frameborder=\"0\" allow=\"autoplay; encrypted-media\" allowfullscreen></iframe>"
      ],
      "text/plain": [
       "<IPython.core.display.HTML object>"
      ]
     },
     "execution_count": 7,
     "metadata": {},
     "output_type": "execute_result"
    }
   ],
   "source": [
    "from IPython.display import HTML\n",
    "HTML('<iframe width=\"854\" height=\"480\" src=\"https://www.youtube.com/embed/fzLihPjZZmk\" frameborder=\"0\" allow=\"autoplay; encrypted-media\" allowfullscreen></iframe>')"
   ]
  },
  {
   "cell_type": "code",
   "execution_count": 5,
   "metadata": {},
   "outputs": [
    {
     "data": {
      "text/html": [
       "<a href=\"http://www.educacional.com.br/Recursos/ConteudoMultimidia/22/Fisica/Dilatacao_termica/dilatacao5.asp\" target=\"alvo\">Escalas térmicas</a>"
      ],
      "text/plain": [
       "<IPython.core.display.HTML object>"
      ]
     },
     "execution_count": 5,
     "metadata": {},
     "output_type": "execute_result"
    }
   ],
   "source": [
    "from IPython.display import HTML\n",
    "HTML('<a href=\"http://www.educacional.com.br/Recursos/ConteudoMultimidia/22/Fisica/Dilatacao_termica/dilatacao5.asp\" target=\"alvo\">Escalas térmicas</a>')"
   ]
  },
  {
   "cell_type": "markdown",
   "metadata": {},
   "source": [
    "## Termoscópio\n",
    "\n",
    "São aparelhos que determinam qualitativamente a variação de temperatura de um objeto ou de um ambiente. \n",
    "\n",
    "\n",
    "Apesar de ter sido construido muitos termoscópio ao longo da História um dos primeiros termoscópio da era moderna foi contuido por Galileu Galilei.\n",
    "O termoscópio de Galileu foi contruido a base de água e se baseva na mudança de densidade (concentração) do ar quando havia mudança de temperatura no ambiente.\n",
    "\n",
    "A partir desse mesmo fenômeno Galileu desenvolvel outro termoscopio mais sofisticado que se baseva na mudança de densidade dos líquidos. Em um tubo de vidro galileu colocou algumas esferas de vidro.\n",
    "A medida que a temperatura do ambiente se altera algumas esferas flutuam enquanto outras afundam. Observe seu funcinamento no vídeo abaixo: "
   ]
  },
  {
   "cell_type": "code",
   "execution_count": 8,
   "metadata": {},
   "outputs": [
    {
     "data": {
      "text/html": [
       "<iframe src=\"https://www.youtube.com/embed/QadByTV1pQE\" width=\"854\" height=\"480\" frameborder=\"0\"allowfullscreen></iframe>"
      ],
      "text/plain": [
       "<IPython.core.display.HTML object>"
      ]
     },
     "execution_count": 8,
     "metadata": {},
     "output_type": "execute_result"
    }
   ],
   "source": [
    "from IPython.display import HTML\n",
    "\n",
    "HTML('<iframe src=\"https://www.youtube.com/embed/QadByTV1pQE\" width=\"854\" height=\"480\" frameborder=\"0\"allowfullscreen></iframe>')"
   ]
  },
  {
   "cell_type": "code",
   "execution_count": null,
   "metadata": {
    "collapsed": true
   },
   "outputs": [],
   "source": []
  }
 ],
 "metadata": {
  "kernelspec": {
   "display_name": "Python 3",
   "language": "python",
   "name": "python3"
  },
  "language_info": {
   "codemirror_mode": {
    "name": "ipython",
    "version": 3
   },
   "file_extension": ".py",
   "mimetype": "text/x-python",
   "name": "python",
   "nbconvert_exporter": "python",
   "pygments_lexer": "ipython3",
   "version": "3.6.5"
  }
 },
 "nbformat": 4,
 "nbformat_minor": 2
}
