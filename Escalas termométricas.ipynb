{
 "cells": [
  {
   "cell_type": "markdown",
   "metadata": {},
   "source": [
    "# Termômetros: grandezas e equações de conversão"
   ]
  },
  {
   "cell_type": "markdown",
   "metadata": {},
   "source": [
    "# Escalas termométricas\n",
    "\n",
    "### ESCALA CELSIUS\n",
    "\n",
    "\n",
    "A escala Celsius foi criada pelo astrônomo e físico sueco Anders Celsius, e atualmente é utilizada na maioria dos países. Nessa escala os pontos fixos adotados são 0 (zero) e 100 (cem), onde o zero corresponde ao ponto de fusão e o cem ao ponto de ebulição da água, à pressão de 1(um) atm. O intervalo entre os dois pontos fixos foi dividido em 100 (cem) partes iguais, devido a esse fato também recebe o nome de escala centigrada ou centesimal.\n",
    "Sua unidade de medida é o grau celsius (ºc).\n",
    "\n",
    "\n",
    "\n",
    "### ESCALA FAHRENHEIT\n",
    "\n",
    "A escala Fahrenheit, foi criada pelo físico Alemão Daniel Fahrenheit. Essa escala é mais utilizada nos países anglo-saxões. Nela foram obtidos os valores de 32(trinta e dois) para o ponto de fusão e 212 (duzentos e ) para o ponto de ebulição. Logo o intervalo entre esses dois pontos fixos foi dividido em 180 (cento e oitenta) partes iguais. Uma curiosidade nessa escala é que o valor 0 (zero) foi adotado para a mistura: Água, gelo picado e sal. \n",
    "Sua unidade de medida é o grau Fahrenheit F (ºF).\n"
   ]
  },
  {
   "cell_type": "code",
   "execution_count": 1,
   "metadata": {},
   "outputs": [
    {
     "data": {
      "text/html": [
       "\n",
       "    <script>\n",
       "    function code_toggle() {\n",
       "        if ($('div.cell.code_cell.rendered.selected div.input').css('display')!='none'){\n",
       "            $('div.cell.code_cell.rendered.selected div.input').hide();\n",
       "        } else {\n",
       "            $('div.cell.code_cell.rendered.selected div.input').show();\n",
       "        }\n",
       "    }\n",
       "    </script>\n",
       "\n",
       "\n",
       "<form action=\"javascript:code_toggle()\"><input type=\"submit\" id=\"toggleButton\" value=\"Toggle Code\"></form>\n"
      ],
      "text/plain": [
       "<IPython.core.display.HTML object>"
      ]
     },
     "metadata": {},
     "output_type": "display_data"
    },
    {
     "data": {
      "text/html": [
       "<iframe width=\"853\" height=\"480\" src=\"https://www.youtube.com/embed/oLJOBvmnK7A\" frameborder=\"0\" allow=\"accelerometer; autoplay; encrypted-media; gyroscope; picture-in-picture\" allowfullscreen></iframe>"
      ],
      "text/plain": [
       "<IPython.core.display.HTML object>"
      ]
     },
     "execution_count": 1,
     "metadata": {},
     "output_type": "execute_result"
    }
   ],
   "source": [
    "from IPython.core.display import display, HTML\n",
    "toggle_code_str = '''\n",
    "<form action=\"javascript:code_toggle()\"><input type=\"submit\" id=\"toggleButton\" value=\"Toggle Code\"></form>\n",
    "'''\n",
    "\n",
    "toggle_code_prepare_str = '''\n",
    "    <script>\n",
    "    function code_toggle() {\n",
    "        if ($('div.cell.code_cell.rendered.selected div.input').css('display')!='none'){\n",
    "            $('div.cell.code_cell.rendered.selected div.input').hide();\n",
    "        } else {\n",
    "            $('div.cell.code_cell.rendered.selected div.input').show();\n",
    "        }\n",
    "    }\n",
    "    </script>\n",
    "\n",
    "'''\n",
    "\n",
    "display(HTML(toggle_code_prepare_str + toggle_code_str))\n",
    "\n",
    "def toggle_code():\n",
    "    display(HTML(toggle_code_str))\n",
    "from IPython.display import HTML\n",
    "HTML('<iframe width=\"853\" height=\"480\" src=\"https://www.youtube.com/embed/oLJOBvmnK7A\" frameborder=\"0\" allow=\"accelerometer; autoplay; encrypted-media; gyroscope; picture-in-picture\" allowfullscreen></iframe>')"
   ]
  },
  {
   "cell_type": "markdown",
   "metadata": {},
   "source": [
    "## Esclas termométricas Celsius e Fahrenheit: Equação de conversão\n",
    "\n",
    "A escala Celsius é a mais utilizada no Brasil. Muitos países não a utilizam, devido a esse fato, surge à necessidade de se \n",
    "estabelecer uma relação de correspondência entre essas. Para isso, partimos dos pontos fixos dessas, estabelecendo uma \n",
    "correspondência física, ou seja, o mesmo grau de agitação molecular corresponde à mesma temperatura nas duas escalas, ainda \n",
    "que seus valores numéricos sejam diferentes. Para melhor compeenção assita a vídeo aula a seguir.\n"
   ]
  },
  {
   "cell_type": "code",
   "execution_count": 2,
   "metadata": {},
   "outputs": [
    {
     "data": {
      "text/html": [
       "\n",
       "    <script>\n",
       "    function code_toggle() {\n",
       "        if ($('div.cell.code_cell.rendered.selected div.input').css('display')!='none'){\n",
       "            $('div.cell.code_cell.rendered.selected div.input').hide();\n",
       "        } else {\n",
       "            $('div.cell.code_cell.rendered.selected div.input').show();\n",
       "        }\n",
       "    }\n",
       "    </script>\n",
       "\n",
       "\n",
       "<form action=\"javascript:code_toggle()\"><input type=\"submit\" id=\"toggleButton\" value=\"Toggle Code\"></form>\n"
      ],
      "text/plain": [
       "<IPython.core.display.HTML object>"
      ]
     },
     "metadata": {},
     "output_type": "display_data"
    },
    {
     "data": {
      "text/html": [
       "<iframe width=\"853\" height=\"480\" src=\"https://www.youtube.com/embed/mMEzi0_ftk8\" frameborder=\"0\" allow=\"accelerometer; autoplay; encrypted-media; gyroscope; picture-in-picture\" allowfullscreen></iframe>"
      ],
      "text/plain": [
       "<IPython.core.display.HTML object>"
      ]
     },
     "execution_count": 2,
     "metadata": {},
     "output_type": "execute_result"
    }
   ],
   "source": [
    "from IPython.core.display import display, HTML\n",
    "toggle_code_str = '''\n",
    "<form action=\"javascript:code_toggle()\"><input type=\"submit\" id=\"toggleButton\" value=\"Toggle Code\"></form>\n",
    "'''\n",
    "\n",
    "toggle_code_prepare_str = '''\n",
    "    <script>\n",
    "    function code_toggle() {\n",
    "        if ($('div.cell.code_cell.rendered.selected div.input').css('display')!='none'){\n",
    "            $('div.cell.code_cell.rendered.selected div.input').hide();\n",
    "        } else {\n",
    "            $('div.cell.code_cell.rendered.selected div.input').show();\n",
    "        }\n",
    "    }\n",
    "    </script>\n",
    "\n",
    "'''\n",
    "\n",
    "display(HTML(toggle_code_prepare_str + toggle_code_str))\n",
    "\n",
    "def toggle_code():\n",
    "    display(HTML(toggle_code_str))\n",
    "from IPython.display import HTML\n",
    "HTML('<iframe width=\"853\" height=\"480\" src=\"https://www.youtube.com/embed/mMEzi0_ftk8\" frameborder=\"0\" allow=\"accelerometer; autoplay; encrypted-media; gyroscope; picture-in-picture\" allowfullscreen></iframe>')"
   ]
  },
  {
   "cell_type": "markdown",
   "metadata": {},
   "source": [
    "### ESCALA KELVIN OU ESCALA ABSOLUTA\n",
    "\n",
    "O físico inglês, wilian Thomson, que recebeu o título de nobreza lorde Kelvin, estabeleceu, em 1848, uma escala absoluta, a chamada escala Kelvin. Ele foi um dos primeiros a afirmar a existência teórica de uma temperatura mínima em que todas às partículas da matéria cessariam a agitação e não teriam energia cinética.\n",
    "Como a temperatura de um corpo está relacionada com o grau de agitação de suas moléculas, podemos dizer que a escalas celsius e fahrenheit são relativas, uma vez que elas não atribuem o valor zero ao estado de agitação molecular mais baixo.\n",
    "A escala Kelvin é chamada de absoluta por atribuir a esse estado de mínima energia o valor 0k (zero kelvin), também chamado de zero absoluto. "
   ]
  },
  {
   "cell_type": "code",
   "execution_count": 3,
   "metadata": {},
   "outputs": [
    {
     "data": {
      "text/html": [
       "\n",
       "    <script>\n",
       "    function code_toggle() {\n",
       "        if ($('div.cell.code_cell.rendered.selected div.input').css('display')!='none'){\n",
       "            $('div.cell.code_cell.rendered.selected div.input').hide();\n",
       "        } else {\n",
       "            $('div.cell.code_cell.rendered.selected div.input').show();\n",
       "        }\n",
       "    }\n",
       "    </script>\n",
       "\n",
       "\n",
       "<form action=\"javascript:code_toggle()\"><input type=\"submit\" id=\"toggleButton\" value=\"Toggle Code\"></form>\n"
      ],
      "text/plain": [
       "<IPython.core.display.HTML object>"
      ]
     },
     "metadata": {},
     "output_type": "display_data"
    },
    {
     "data": {
      "text/html": [
       "<iframe width=\"853\" height=\"480\" src=\"https://www.youtube.com/embed/keSdxI5MwYo\" frameborder=\"0\" allow=\"accelerometer; autoplay; encrypted-media; gyroscope; picture-in-picture\" allowfullscreen></iframe>"
      ],
      "text/plain": [
       "<IPython.core.display.HTML object>"
      ]
     },
     "execution_count": 3,
     "metadata": {},
     "output_type": "execute_result"
    }
   ],
   "source": [
    "from IPython.core.display import display, HTML\n",
    "toggle_code_str = '''\n",
    "<form action=\"javascript:code_toggle()\"><input type=\"submit\" id=\"toggleButton\" value=\"Toggle Code\"></form>\n",
    "'''\n",
    "\n",
    "toggle_code_prepare_str = '''\n",
    "    <script>\n",
    "    function code_toggle() {\n",
    "        if ($('div.cell.code_cell.rendered.selected div.input').css('display')!='none'){\n",
    "            $('div.cell.code_cell.rendered.selected div.input').hide();\n",
    "        } else {\n",
    "            $('div.cell.code_cell.rendered.selected div.input').show();\n",
    "        }\n",
    "    }\n",
    "    </script>\n",
    "\n",
    "'''\n",
    "\n",
    "display(HTML(toggle_code_prepare_str + toggle_code_str))\n",
    "\n",
    "def toggle_code():\n",
    "    display(HTML(toggle_code_str))\n",
    "from IPython.display import HTML\n",
    "HTML('<iframe width=\"853\" height=\"480\" src=\"https://www.youtube.com/embed/keSdxI5MwYo\" frameborder=\"0\" allow=\"accelerometer; autoplay; encrypted-media; gyroscope; picture-in-picture\" allowfullscreen></iframe>')"
   ]
  },
  {
   "cell_type": "markdown",
   "metadata": {
    "collapsed": true
   },
   "source": [
    "## Termoscópio\n",
    "\n",
    "São aparelhos que determinam qualitativamente a variação de temperatura de um objeto ou de um ambiente. \n",
    "\n",
    "\n",
    "Apesar de ter sido construido muitos termoscópio ao longo da História um dos primeiros termoscópio da era moderna foi contuido por Galileu Galilei.\n",
    "O termoscópio de Galileu foi contruido a base de água e se baseva na mudança de densidade (concentração) do ar quando havia mudança de temperatura no ambiente.\n",
    "\n",
    "A partir desse mesmo fenômeno Galileu desenvolvel outro termoscopio mais sofisticado que se baseva na mudança de densidade dos líquidos. Em um tubo de vidro galileu colocou algumas esferas de vidro.\n",
    "A medida que a temperatura do ambiente se altera algumas esferas flutuam enquanto outras afundam. Observe seu funcinamento no vídeo abaixo: "
   ]
  },
  {
   "cell_type": "code",
   "execution_count": 4,
   "metadata": {},
   "outputs": [
    {
     "data": {
      "text/html": [
       "\n",
       "    <script>\n",
       "    function code_toggle() {\n",
       "        if ($('div.cell.code_cell.rendered.selected div.input').css('display')!='none'){\n",
       "            $('div.cell.code_cell.rendered.selected div.input').hide();\n",
       "        } else {\n",
       "            $('div.cell.code_cell.rendered.selected div.input').show();\n",
       "        }\n",
       "    }\n",
       "    </script>\n",
       "\n",
       "\n",
       "<form action=\"javascript:code_toggle()\"><input type=\"submit\" id=\"toggleButton\" value=\"Toggle Code\"></form>\n"
      ],
      "text/plain": [
       "<IPython.core.display.HTML object>"
      ]
     },
     "metadata": {},
     "output_type": "display_data"
    },
    {
     "data": {
      "text/html": [
       "<iframe width=\"697\" height=\"392\" src=\"https://www.youtube.com/embed/QadByTV1pQE\" frameborder=\"0\" allow=\"accelerometer; autoplay; encrypted-media; gyroscope; picture-in-picture\" allowfullscreen></iframe>"
      ],
      "text/plain": [
       "<IPython.core.display.HTML object>"
      ]
     },
     "execution_count": 4,
     "metadata": {},
     "output_type": "execute_result"
    }
   ],
   "source": [
    "from IPython.core.display import display, HTML\n",
    "toggle_code_str = '''\n",
    "<form action=\"javascript:code_toggle()\"><input type=\"submit\" id=\"toggleButton\" value=\"Toggle Code\"></form>\n",
    "'''\n",
    "\n",
    "toggle_code_prepare_str = '''\n",
    "    <script>\n",
    "    function code_toggle() {\n",
    "        if ($('div.cell.code_cell.rendered.selected div.input').css('display')!='none'){\n",
    "            $('div.cell.code_cell.rendered.selected div.input').hide();\n",
    "        } else {\n",
    "            $('div.cell.code_cell.rendered.selected div.input').show();\n",
    "        }\n",
    "    }\n",
    "    </script>\n",
    "\n",
    "'''\n",
    "\n",
    "display(HTML(toggle_code_prepare_str + toggle_code_str))\n",
    "\n",
    "def toggle_code():\n",
    "    display(HTML(toggle_code_str))\n",
    "from IPython.display import HTML\n",
    "HTML('<iframe width=\"697\" height=\"392\" src=\"https://www.youtube.com/embed/QadByTV1pQE\" frameborder=\"0\" allow=\"accelerometer; autoplay; encrypted-media; gyroscope; picture-in-picture\" allowfullscreen></iframe>')"
   ]
  }
 ],
 "metadata": {
  "kernelspec": {
   "display_name": "Python 3",
   "language": "python",
   "name": "python3"
  },
  "language_info": {
   "codemirror_mode": {
    "name": "ipython",
    "version": 3
   },
   "file_extension": ".py",
   "mimetype": "text/x-python",
   "name": "python",
   "nbconvert_exporter": "python",
   "pygments_lexer": "ipython3",
   "version": "3.7.0"
  }
 },
 "nbformat": 4,
 "nbformat_minor": 2
}
