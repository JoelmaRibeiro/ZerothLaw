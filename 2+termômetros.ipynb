{
 "cells": [
  {
   "cell_type": "markdown",
   "metadata": {},
   "source": [
    "# Termômetros: grandezas e equações de conversão"
   ]
  },
  {
   "cell_type": "markdown",
   "metadata": {},
   "source": [
    "# Introdução"
   ]
  },
  {
   "cell_type": "markdown",
   "metadata": {
    "collapsed": true
   },
   "source": [
    "# Termômetros\n",
    "\n",
    "vídeo hitória do termômetro\n"
   ]
  },
  {
   "cell_type": "markdown",
   "metadata": {},
   "source": [
    "O princípio de funcionamento dos termômetros basea-se na relação de proporcionalidade entre agitação térmica e uma grandeza \n",
    "física que varia com a temperatura. "
   ]
  },
  {
   "cell_type": "markdown",
   "metadata": {
    "collapsed": true
   },
   "source": [
    "# substâncias termométricas:\n",
    "\n",
    "Como não se pode medir a vibração de cada molécula de um corpo isoladamente, pode-se medir sua temperatura de maneira indireta utilizando certas substâncias. Essas substâncias recebem o nome de substâncias termométricas e a grandeza que varia com a temperatura recebe o nome de grandeza termométrica.Por isso, ao colocar qualquer tipo de termômetro em contato com um corpo, é necessário agurada um certo intervalo de tempo até que se atinja o estado de equilíbrio termico entre o termômetro e o corpo.\n",
    "\n",
    "Ex.: \n",
    "1) Régua metálica: Quando aquecida sofre um aumento em comprimento.\n",
    "\n",
    "\n",
    "A substância termométricar é a régua metalica;\n",
    "\n",
    "A grandeza termométrica, seu comprimento, que varia com a temperatura.\n",
    "\n",
    "\n",
    "EX.: 2) Termômetro a gás:\n",
    "\n",
    "\n",
    "A substância termoétrica é o gás;\n",
    "\n",
    "A grandeza termométrica é o volume do gás ( se a pressão permanece constante) ou a pressão do gás ( quando o volume é constate). \n",
    "\n",
    "Outras substâncias podem ser usadas para a construção de um termômetro como por exemplo: o álcool com corante e o mercúrio, \n",
    "a razão para se utilizar esta ou aquela substância é justificada pelas diversas aplicações que eles podem ter. Por exemplo \n",
    "não podemos usar um termômetro acústico para medir a terperatura de um ser humano pois são usados para medir temperatura\n",
    "muito baixas(2K e 40K), seu principio de funcionamento é baseado na variação do som ( ou ultra-som) com a temperatura.\n"
   ]
  },
  {
   "cell_type": "markdown",
   "metadata": {},
   "source": [
    "# Calibração ou Graduação de um termômetro\n",
    "\n",
    " Calibrar um termômetro significa escolher 2 (dois) valores, algumas vezes arbitrários. Esses valores são chamamos de pontos fixos. Dividindo-se o intervalo entre os dois pontos fixos em partes iguais, obtém-se o termômetro graduado em uma determinada escala. Nos termômetros são utilizados diferentes pontos fixos para calibrá-los.  Normalmente essa graduação é feita a partir de uma substância pura, no caso a água a uma pressão de 1 atm (atmosfera). Os pontos fixos mais usados são a temperatura de fusão e ebulição  sob pressão atmosférica normal, devido ao fato de a temperatura de uma substância se manter constante durante uma mudança de estado físico. Os termômetros que utilizamos em nosso cotidiano já se encontram calibrados. As escalas mais conhecidas são: Celsius, Fahrenheit e Kelvin."
   ]
  },
  {
   "cell_type": "markdown",
   "metadata": {},
   "source": [
    "# Escalas termométricas\n",
    "\n",
    "### ESCALA CELSIUS\n",
    "\n",
    "\n",
    "A escala Celsius foi criada pelo astrônomo e físico sueco Anders Celsius, e atualmente é utilizada na maioria dos países. Nessa escala os pontos fixos adotados são 0 (zero) e 100 (cem), onde o zero corresponde ao ponto de fusão e o cem ao ponto de ebulição da água, à pressão de 1(um) atm. O intervalo entre os dois pontos fixos foi dividido em 100 (cem) partes iguais, devido a esse fato também recebe o nome de escala centigrada ou centesimal.\n",
    "Sua unidade de medida é o grau celsius (ºc).\n",
    "\n",
    "\n",
    "\n",
    "### ESCALA FAHRENHEIT\n",
    "\n",
    "A escala Fahrenheit, foi criada pelo físico Alemão Daniel Fahrenheit. Essa escala é mais utilizada nos países anglo-saxões. Nela foram obtidos os valores de 32(trinta e dois) para o ponto de fusão e 212 (duzentos e ) para o ponto de ebulição. Logo o intervalo entre esses dois pontos fixos foi dividido em 180 (cento e oitenta) partes iguais. Uma curiosidade nessa escala é que o valor 0 (zero) foi adotado para a mistura: Água, gelo picado e sal. \n",
    "Sua unidade de medida é o grau Fahrenheit F (ºF).\n",
    "\n",
    "\n",
    "\n",
    "### ESCALA KELVIN OU ESCALA ABSOLUTA\n",
    "\n",
    "O físico inglês, wilian Thomson, que recebeu o título de nobreza lorde Kelvin, estabeleceu, em 1848, uma escala absoluta, a chamada escala Kelvin. Ele foi um dos primeiros a afirmar a existência teórica de uma temperatura mínima em que todas às partículas da matéria cessariam a agitação e não teriam energia cinética.\n",
    "Como a temperatura de um corpo está relacionada com o grau de agitação de suas moléculas, podemos dizer que a escalas celsius e fahrenheit são relativas, uma vez que elas não atribuem o valor zero ao estado de agitação molecular mais baixo.\n",
    "A escala Kelvin é chamada de absoluta por atribuir a esse estado de mínima energia o valor 0k (zero kelvin), também chamado de zero absoluto. Por convenção não se usa a palavra “grau” nessa escala. Nela foram obtidos os valores aproximados de 273k para o ponto de fusão e 373k para o ponto de ebulição da água, à pressão normal. É importante observar que esta escala não possui valores negativos.\n",
    "Sua unidade de medida é o kelvin (k).\n",
    "\n",
    "\n"
   ]
  },
  {
   "cell_type": "markdown",
   "metadata": {
    "collapsed": true
   },
   "source": [
    "## Esclas termométricas Celsius e Fahrenheit: Equação de conversão\n",
    "\n",
    "A escala Celsius é a mais utilizada no Brasil. Muitos países não a utilizam, devido a esse fato, surge à necessidade de se \n",
    "estabelecer uma relação de correspondência entre essas. Para isso, partimos dos pontos fixos dessas, estabelecendo uma \n",
    "correspondência física, ou seja, o mesmo grau de agitação molecular corresponde à mesma temperatura nas duas escalas, ainda \n",
    "que seus valores numéricos sejam diferentes. \n",
    "\n",
    "Relembremos:\n",
    "    \n",
    "- Para construir sua escala, Celsius nomeou de 0ºc o ponto de fusão do gelo e 100 ºc o ponto de ebulição da água.\n",
    "\n",
    "- Na escala Fahrenheit foram obtidos os valores de 32ºF para o ponto de fusão do gelo e 212 ºF para o ponto de ebulição.\n",
    "\n",
    "Para compará-las e relacioná-las a partir desses pontos fixos, utilizaremos a ideia do teorema de Tales que diz:\n",
    "    \n",
    "“Os segmentos determinados por um feixe de retas paralelas sobre duas transversais são diretamente proporcionais.”\n",
    "\n",
    "Na pratica o que você deve perceber é que, os segmentos da escala Fahrenheit são proporcionais aos da escala Celsius.\n",
    "\n",
    "Vejamos:\n",
    "    \n",
    "IMAGEM e EQ\n",
    "\n",
    "Você deverá usar o mesmo procedimento para qualquer outra escala termométrica. É importante saber montar essa equação entre\n",
    "as escalas mais conhecidas: Celsius, Fahrenheit e Kelvin.\n",
    "    \n",
    "Para converter grau Celsius (ºc) em kelvin (k) basta adicionar 273 a temperatura em Celsius que deseja converter, pois ambas \n",
    "as escalas são subdivididas em 100 (cem) unidades iguais entre os mesmos pontos fixos.\n",
    "\n",
    "EQ\n"
   ]
  },
  {
   "cell_type": "markdown",
   "metadata": {
    "collapsed": true
   },
   "source": [
    "# Exercícios"
   ]
  },
  {
   "cell_type": "code",
   "execution_count": 7,
   "metadata": {},
   "outputs": [
    {
     "data": {
      "text/html": [
       "<iframe width=\"854\" height=\"480\" src=\"https://www.youtube.com/embed/fzLihPjZZmk\" frameborder=\"0\" allow=\"autoplay; encrypted-media\" allowfullscreen></iframe>"
      ],
      "text/plain": [
       "<IPython.core.display.HTML object>"
      ]
     },
     "execution_count": 7,
     "metadata": {},
     "output_type": "execute_result"
    }
   ],
   "source": [
    "from IPython.display import HTML\n",
    "HTML('<iframe width=\"854\" height=\"480\" src=\"https://www.youtube.com/embed/fzLihPjZZmk\" frameborder=\"0\" allow=\"autoplay; encrypted-media\" allowfullscreen></iframe>')"
   ]
  },
  {
   "cell_type": "code",
   "execution_count": 5,
   "metadata": {},
   "outputs": [
    {
     "data": {
      "text/html": [
       "<a href=\"http://www.educacional.com.br/Recursos/ConteudoMultimidia/22/Fisica/Dilatacao_termica/dilatacao5.asp\" target=\"alvo\">Escalas térmicas</a>"
      ],
      "text/plain": [
       "<IPython.core.display.HTML object>"
      ]
     },
     "execution_count": 5,
     "metadata": {},
     "output_type": "execute_result"
    }
   ],
   "source": [
    "from IPython.display import HTML\n",
    "HTML('<a href=\"http://www.educacional.com.br/Recursos/ConteudoMultimidia/22/Fisica/Dilatacao_termica/dilatacao5.asp\" target=\"alvo\">Escalas térmicas</a>')"
   ]
  },
  {
   "cell_type": "markdown",
   "metadata": {},
   "source": [
    "## Termoscópio\n",
    "\n",
    "São aparelhos que determinam qualitativamente a variação de temperatura de um objeto ou de um ambiente. \n",
    "\n",
    "\n",
    "Apesar de ter sido construido muitos termoscópio ao longo da História um dos primeiros termoscópio da era moderna foi contuido por Galileu Galilei.\n",
    "O termoscópio de Galileu foi contruido a base de água e se baseva na mudança de densidade (concentração) do ar quando havia mudança de temperatura no ambiente.\n",
    "\n",
    "A partir desse mesmo fenômeno Galileu desenvolvel outro termoscopio mais sofisticado que se baseva na mudança de densidade dos líquidos. Em um tubo de vidro galileu colocou algumas esferas de vidro.\n",
    "A medida que a temperatura do ambiente se altera algumas esferas flutuam enquanto outras afundam. Observe seu funcinamento no vídeo abaixo: "
   ]
  },
  {
   "cell_type": "code",
   "execution_count": 8,
   "metadata": {},
   "outputs": [
    {
     "data": {
      "text/html": [
       "<iframe src=\"https://www.youtube.com/embed/QadByTV1pQE\" width=\"854\" height=\"480\" frameborder=\"0\"allowfullscreen></iframe>"
      ],
      "text/plain": [
       "<IPython.core.display.HTML object>"
      ]
     },
     "execution_count": 8,
     "metadata": {},
     "output_type": "execute_result"
    }
   ],
   "source": [
    "from IPython.display import HTML\n",
    "\n",
    "HTML('<iframe src=\"https://www.youtube.com/embed/QadByTV1pQE\" width=\"854\" height=\"480\" frameborder=\"0\"allowfullscreen></iframe>')"
   ]
  },
  {
   "cell_type": "code",
   "execution_count": null,
   "metadata": {
    "collapsed": true
   },
   "outputs": [],
   "source": []
  }
 ],
 "metadata": {
  "kernelspec": {
   "display_name": "Python 3",
   "language": "python",
   "name": "python3"
  },
  "language_info": {
   "codemirror_mode": {
    "name": "ipython",
    "version": 3
   },
   "file_extension": ".py",
   "mimetype": "text/x-python",
   "name": "python",
   "nbconvert_exporter": "python",
   "pygments_lexer": "ipython3",
   "version": "3.6.5"
  }
 },
 "nbformat": 4,
 "nbformat_minor": 2
}
