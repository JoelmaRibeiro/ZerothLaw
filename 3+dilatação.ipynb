{
 "cells": [
  {
   "cell_type": "markdown",
   "metadata": {},
   "source": [
    "# Dilatação"
   ]
  },
  {
   "cell_type": "markdown",
   "metadata": {},
   "source": [
    "# Introdução\n",
    "\n",
    " A temperatura é uma medida de agitação molecular.Aumentando a temperatura de um corpo, a agitação de suas moléculas aumentará, \n",
    "com isso elas se afastarão,fazendo com que aquele corpo ocupe um espaço maior. Na verdade, o que acontece é que as moléculas \n",
    "se afastam mais do que se aproximam, pois a força de repulsão aumenta a uma taxa maior que a de atração.\n",
    "\n",
    "Uma indicação importante da relação que existe entre a temperatura e o movimento dos átomos é o fenômeno que chamamos de: \n",
    "dilatação térmica. Quase todos os sólidos e líquidos aumentam de volume quando são aquecidos. Podemos perceber claramente \n",
    "esse aumento, por exemplo, quando temperaturas em elevação fazem o líquido se expandir em um termômetro formado por um \n",
    "líquido dentro de um tubo.\n",
    "\n",
    "   Analogamente, quando esse mesmo termômetro e submetido a temperaturas em baixa sua agitação molecular diminui, \n",
    "causando redução da coluna de seu líquido, o que é conhecido como contração térmica.\n",
    "\n",
    "   A dilatação térmica pode ser classificada de três formas: Linear, superficial e volumétrica. \n"
   ]
  },
  {
   "cell_type": "markdown",
   "metadata": {},
   "source": [
    "# Dilatação Linear\n",
    "\n",
    "Experimentalmente verificamos que se aquecermos uma barra metálica em um dado intervalo de tempo, essa barra sofre alteração em todas as suas dimensões. Inicialmente, vamos analisar apenas uma de suas dimensões o seu comprimento.\n",
    "\n",
    "A tendência de uma barra metálica aquecido de se dilatar é geralmente expressa em termos de um  coeficiente de dilatação linear que relaciona seu comprimento inicial a uma certa temperatura inicial a um comprimento final a certa temperatura final.\n",
    "\n",
    "Suponha que uma barra metálica possua comprimento L0 em uma dada temperatura T0. Quando a temperatura varia de deltaT, o comprimento varia de deltaL. Experimentalmente, observa – se que a variação de cada uma das dimensões lineares (deltaL) de um corpo é diretamente proporcional à variação de temperatura (deltaT) por ele sofrida.\n",
    "\n",
    "Se duas barras metálicas feitas com o mesmo material sofrem a mesma variação de temperatura, mas uma possui o dobro do comprimento da outra, então a variação do comprimento também é duas vezes maior. Logo, (deltaL) também deve ser proporcional a L0.\n",
    "\n",
    "Vejamos: Se (deltaL) e diretamente propocional a L0 e também a (deltaT), então (deltaL) é proporcional ao produto de L0 e deltaT: (deltaL α L0 e deltaL α L0 . deltaT)\n",
    "\n",
    "Introduzindo uma constante de proporcionalidade, também chamada de coeficiente de dilatação térmica, uma constante cujo valor depende do material considerado.\n",
    "\n",
    "É importante ressaltar que não existem duas substâncias diferentes com coeficiente de dilatação iguais e que esse coeficiente é constante em determinado intervalo de temperatura.\n",
    "\n",
    "A expressão geral da dilatação (ou contração) linear de um sólido é:\n"
   ]
  },
  {
   "cell_type": "code",
   "execution_count": 2,
   "metadata": {},
   "outputs": [
    {
     "data": {
      "text/html": [
       "<iframe width=\"854\" height=\"480\" src=\"https://www.youtube.com/embed/JoYkzWxs4Tg?list=PLrWJWW0plIKar6EwpGW-uvdKOcRwcPFC-\" frameborder=\"0\" allow=\"autoplay; encrypted-media\" allowfullscreen></iframe>"
      ],
      "text/plain": [
       "<IPython.core.display.HTML object>"
      ]
     },
     "execution_count": 2,
     "metadata": {},
     "output_type": "execute_result"
    }
   ],
   "source": [
    "from IPython.display import HTML\n",
    "HTML('<iframe width=\"854\" height=\"480\" src=\"https://www.youtube.com/embed/JoYkzWxs4Tg?list=PLrWJWW0plIKar6EwpGW-uvdKOcRwcPFC-\" frameborder=\"0\" allow=\"autoplay; encrypted-media\" allowfullscreen></iframe>')"
   ]
  },
  {
   "cell_type": "markdown",
   "metadata": {},
   "source": [
    "# Lâminas bimetálicas\n",
    "\n",
    "Um dispositivo simples de comando que demonstra esse principio é a fita bimetálica. É encontrado em dispositivo práticos como termostatos nos fornos domésticos, ferro elétricos automáticos, medidores de temperatura colocados em carros e pisca-piscas.\n",
    "\n",
    "A fita é feita ligando-se firmemente dois metais diferentes ao longo de suas superfícies. Quando a temperatura das fitas aumenta, os dois metais expandem em quantidades diferentes e a fita se curva.\n"
   ]
  },
  {
   "cell_type": "code",
   "execution_count": 3,
   "metadata": {},
   "outputs": [
    {
     "data": {
      "text/html": [
       "<iframe width=\"854\" height=\"480\" src=\"https://www.youtube.com/embed/Dr4wtWdr2yU?list=PLrWJWW0plIKar6EwpGW-uvdKOcRwcPFC-\" frameborder=\"0\" allow=\"autoplay; encrypted-media\" allowfullscreen></iframe>"
      ],
      "text/plain": [
       "<IPython.core.display.HTML object>"
      ]
     },
     "execution_count": 3,
     "metadata": {},
     "output_type": "execute_result"
    }
   ],
   "source": [
    "from IPython.display import HTML\n",
    "HTML ('<iframe width=\"854\" height=\"480\" src=\"https://www.youtube.com/embed/Dr4wtWdr2yU?list=PLrWJWW0plIKar6EwpGW-uvdKOcRwcPFC-\" frameborder=\"0\" allow=\"autoplay; encrypted-media\" allowfullscreen></iframe>')"
   ]
  },
  {
   "cell_type": "markdown",
   "metadata": {},
   "source": [
    "# Dilatação Superficial\n",
    "\n",
    "Devido às dimensões lineares de um objeto mudar com a temperatura, a superfície e o volume também muda com a temperatura.\n",
    "\n",
    "Geralmente não vemos essa dilatação ou contração a olho nu. Mas podemos encontrar em nosso cotidiano diferentes situações em que se deve levar em consideração a dilatação superficial de um objeto. Como exemplos podem citar: calçadas cimentadas, quadras poli esportivas e até mesmo as lajes. Nesse processo de dilatação e contração podem  acontecer rachaduras coloca-se juntas de dilatação, em quadras e calçadas quando estão construindo as mesmas.\n",
    "\n",
    "A dilatação superficial é diretamente proporcional à variação de temperatura DeltaT e à área inicial A0, porém ela também depende do material a partir do qual é construída. Essa dependência é expressa matematicamente pela constante de proporcionalidade beta, também chamada de coeficiente de dilatação superficial. A dilatação superficial é calculada pela expressão:\n",
    "\n",
    "O coeficiente de dilatação superficial é igual ao dobro do coeficiente linear dessa substância: Beta = 2 alfa\n"
   ]
  },
  {
   "cell_type": "markdown",
   "metadata": {},
   "source": [
    "# Dilatação volumétrica\n",
    "\n",
    "A dilatação volumétrica de todos os corpos sólidos obedece às mesmas leis que já estudamos para as dilatações lineares e superficiais. \n",
    "\n",
    "Durante a construção de pontes e viadutos deixam-se pequenas fendas para que essas estruturas possam dilatar quando a temperatura aumentar, sem que aconteçam as rachaduras. Tais espaços vazios, chamados juntas de dilatação, são geralmente preenchidos com material elásticos ( borrachas) ou recobertos com materiais rígidos (metálicos). Para saber qual será a dimensão das juntas de dilatação é importante levar em conta o material dos blocos, o volume de cada um deles e as variações de temperaturas que estarão submetidos, conforme o clima de cada região. \n",
    "\n",
    "Assim como na dilatação superficial, a dilatação volumétrica é um caso tridimensional da dilatação linear, portanto tem dedução análoga à anterior.\n",
    "\n",
    "Onde: gama é o coeficiente de dilatação volumétrica, que possui valor especifico para cada substância. Ele corresponde ao triplo do coeficiente de dilatação linear alfa da mesma substância: gama = 3 alfa."
   ]
  },
  {
   "cell_type": "markdown",
   "metadata": {},
   "source": [
    "# Dilatação de gases e líquidos"
   ]
  },
  {
   "cell_type": "code",
   "execution_count": 5,
   "metadata": {},
   "outputs": [
    {
     "data": {
      "text/html": [
       "<iframe width=\"854\" height=\"480\" src=\"https://www.youtube.com/embed/OpJR6N8PR_w\" frameborder=\"0\" allow=\"autoplay; encrypted-media\" allowfullscreen></iframe>"
      ],
      "text/plain": [
       "<IPython.core.display.HTML object>"
      ]
     },
     "execution_count": 5,
     "metadata": {},
     "output_type": "execute_result"
    }
   ],
   "source": [
    "from IPython.display import HTML\n",
    "HTML('<iframe width=\"854\" height=\"480\" src=\"https://www.youtube.com/embed/OpJR6N8PR_w\" frameborder=\"0\" allow=\"autoplay; encrypted-media\" allowfullscreen></iframe>')"
   ]
  },
  {
   "cell_type": "code",
   "execution_count": 6,
   "metadata": {},
   "outputs": [
    {
     "data": {
      "text/html": [
       "<iframe width=\"854\" height=\"480\" src=\"https://www.youtube.com/embed/LnohD1uy9mI?list=PLrWJWW0plIKar6EwpGW-uvdKOcRwcPFC-\" frameborder=\"0\" allow=\"autoplay; encrypted-media\" allowfullscreen></iframe>"
      ],
      "text/plain": [
       "<IPython.core.display.HTML object>"
      ]
     },
     "execution_count": 6,
     "metadata": {},
     "output_type": "execute_result"
    }
   ],
   "source": [
    "from IPython.display import HTML\n",
    "HTML('<iframe width=\"854\" height=\"480\" src=\"https://www.youtube.com/embed/LnohD1uy9mI?list=PLrWJWW0plIKar6EwpGW-uvdKOcRwcPFC-\" frameborder=\"0\" allow=\"autoplay; encrypted-media\" allowfullscreen></iframe>')"
   ]
  },
  {
   "cell_type": "markdown",
   "metadata": {
    "collapsed": true
   },
   "source": [
    "## Dilatação anômala da água\n",
    "\n",
    "No intervalo de 0 °C a 4 °C, a água sofre contração, isto é, o volume diminui; só a partir de 4 °C, a água apresenta dilatação. Durante o resfriamento até 4 °C, a água da superfície sofre contração e afunda, pois torna-se mais densa. Com isso, a água mais quente sobe. Quando a temperatura da água chega a 4 ºC, o movimento de convecção é interrompido, pois a densidade da água atinge seu valor máximo. Ao passar de 4 ºC para 0 ºC, o volume da água aumenta em vez de diminuir e, assim, a densidade também diminui. Então, as porções de água mais próximas da superfície não afundam mais e esfriam até se solidificar, formando uma camada de gelo sobre a água líquida. Como o gelo é um bom isolante térmico, as porções de água no interior do lago se mantêm a temperaturas próximas de 4 ºC e continuam no estado líquido.\n"
   ]
  }
 ],
 "metadata": {
  "kernelspec": {
   "display_name": "Python 3",
   "language": "python",
   "name": "python3"
  },
  "language_info": {
   "codemirror_mode": {
    "name": "ipython",
    "version": 3
   },
   "file_extension": ".py",
   "mimetype": "text/x-python",
   "name": "python",
   "nbconvert_exporter": "python",
   "pygments_lexer": "ipython3",
   "version": "3.6.5"
  }
 },
 "nbformat": 4,
 "nbformat_minor": 2
}
